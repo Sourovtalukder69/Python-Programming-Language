{
  "cells": [
    {
      "cell_type": "markdown",
      "metadata": {
        "id": "y1HMD4oI7FL7"
      },
      "source": [
        "## **Operators , If else , Loops in Python**"
      ]
    },
    {
      "cell_type": "markdown",
      "metadata": {},
      "source": [
        "# Opearators\n",
        "\n",
        "> Arithmetic operators :\n",
        " - +(plus)   # -(substraction)   # *(multiplication)   # /(division) % (modulus)   # **(exponential)   # //(floor division)\n",
        "\n",
        "> Comparison Operators:These are used to compare values and include\n",
        " - == (equal), != (not equal), < (less than), > (greater than), \n",
        " <= (less than or equal to), and >= (greater than or equal to).\n",
        "\n",
        "> Assignment Operators:These are used to assign values to variables and include\n",
        " - = (assignment), += (add and assign), -= (subtract and assign), *= (multiply and assign), and more.\n",
        "\n",
        "> Logical Operators: These include \n",
        " - and (logical AND), or (logical OR), and not (logical NOT), and are used for making logical comparisons.\n",
        "\n",
        "> Bitwise Operators: These operators perform operations on the binary representation of integers and include\n",
        " - & (bitwise AND), | (bitwise OR), ^ (bitwise XOR), ~ (bitwise NOT), << (left shift), and >> (right shift).\n",
        "\n",
        "> Membership Operators: These operators test if a value is a member of a sequence and include in and not in.\n",
        "\n",
        "> Identity Operators: These operators test for object identity and include is and is not.\n",
        "   Other Operators: Python also has operators like [] (indexing), () (function call), and . (attribute access) to interact with objects and data structures."
      ]
    },
    {
      "cell_type": "markdown",
      "metadata": {},
      "source": [
        "### Arithmetic Operators"
      ]
    },
    {
      "cell_type": "code",
      "execution_count": 5,
      "metadata": {
        "colab": {
          "base_uri": "https://localhost:8080/"
        },
        "id": "a7cegk-f7U4-",
        "outputId": "77490d0d-316e-4611-9cd7-8c99e64fca2a"
      },
      "outputs": [
        {
          "name": "stdout",
          "output_type": "stream",
          "text": [
            "11\n",
            "-1\n",
            "30\n",
            "2.5\n",
            "2\n",
            "1\n",
            "25\n"
          ]
        }
      ],
      "source": [
        "# Arithmetric Operators\n",
        "\n",
        "# +(plus)\n",
        "print(5+6)\n",
        "\n",
        "# -(substraction)\n",
        "print(5-6)\n",
        "\n",
        "# *(multiplication)\n",
        "print(5*6)\n",
        "\n",
        "# /(division)\n",
        "print(5/2)\n",
        "\n",
        "# //(floor division) integer division\n",
        "print(5//2)\n",
        "\n",
        "# % (modulus) : After division reminder says\n",
        "print(5%2)\n",
        "\n",
        " # **(exponential)\n",
        "print(5**2)"
      ]
    },
    {
      "cell_type": "markdown",
      "metadata": {},
      "source": [
        "### Relational Operators"
      ]
    },
    {
      "cell_type": "code",
      "execution_count": 6,
      "metadata": {
        "colab": {
          "base_uri": "https://localhost:8080/"
        },
        "id": "TMIQKhFd7Y5A",
        "outputId": "573867e9-962a-45a6-a313-dcaa8b9a6406"
      },
      "outputs": [
        {
          "name": "stdout",
          "output_type": "stream",
          "text": [
            "False\n",
            "True\n",
            "True\n",
            "True\n",
            "True\n",
            "False\n"
          ]
        }
      ],
      "source": [
        "\n",
        "print(4>5)\n",
        "\n",
        "print(4<5)\n",
        "\n",
        "print(4>=4)\n",
        "\n",
        "print(4<=4)\n",
        "\n",
        "print(4==4)\n",
        "\n",
        "print(4!=4)"
      ]
    },
    {
      "cell_type": "markdown",
      "metadata": {},
      "source": [
        "### Logical Operators"
      ]
    },
    {
      "cell_type": "code",
      "execution_count": 9,
      "metadata": {
        "colab": {
          "base_uri": "https://localhost:8080/"
        },
        "id": "vyxdjDbc7avq",
        "outputId": "4c6a1710-fea3-466c-f6b2-f98de20a2a0b"
      },
      "outputs": [
        {
          "name": "stdout",
          "output_type": "stream",
          "text": [
            "5\n",
            "1\n",
            "False\n"
          ]
        }
      ],
      "source": [
        "print(1 and 0) # both have to true\n",
        "\n",
        "print(1 or 0)  # any one True sufficient\n",
        "\n",
        "print(not 1)"
      ]
    },
    {
      "cell_type": "markdown",
      "metadata": {},
      "source": [
        "### Bitwise Operators"
      ]
    },
    {
      "cell_type": "code",
      "execution_count": 10,
      "metadata": {
        "colab": {
          "base_uri": "https://localhost:8080/"
        },
        "id": "H4KzpSke7d9l",
        "outputId": "5832a648-6430-425c-8fa7-8dbad5d8d4b3"
      },
      "outputs": [
        {
          "name": "stdout",
          "output_type": "stream",
          "text": [
            "2\n",
            "3\n",
            "1\n",
            "-4\n",
            "1\n",
            "20\n"
          ]
        }
      ],
      "source": [
        "# bitwise and\n",
        "print(2 & 3) \n",
        "\n",
        "# bitwise or\n",
        "print(2 | 3)\n",
        "\n",
        "# bitwise xor : both same = 0, both are different = 1 !(after converting binary)\n",
        "print(2 ^ 3)\n",
        "\n",
        "# bitwise not\n",
        "print(~3)\n",
        "\n",
        "# bitwise left shift\n",
        "print(4 >> 2)\n",
        "\n",
        "# bitwise right\n",
        "print(5 << 2)"
      ]
    },
    {
      "cell_type": "markdown",
      "metadata": {},
      "source": [
        "### Assignment Operators"
      ]
    },
    {
      "cell_type": "code",
      "execution_count": 11,
      "metadata": {
        "colab": {
          "base_uri": "https://localhost:8080/"
        },
        "id": "8EEm8eHO7gD_",
        "outputId": "a421f118-2ee3-42da-91ff-3cd06de41755"
      },
      "outputs": [
        {
          "name": "stdout",
          "output_type": "stream",
          "text": [
            "0\n",
            "12\n"
          ]
        }
      ],
      "source": [
        "# +=, *=, %=, /=\n",
        "\n",
        "a = 2\n",
        "\n",
        "# a = a % 2\n",
        "a %= 2\n",
        "\n",
        "# a++ ++a\n",
        "b = 5\n",
        "b +=7\n",
        "\n",
        "print(a)\n",
        "print(b)"
      ]
    },
    {
      "cell_type": "markdown",
      "metadata": {},
      "source": [
        "### Membership Operators"
      ]
    },
    {
      "cell_type": "code",
      "execution_count": 15,
      "metadata": {
        "colab": {
          "base_uri": "https://localhost:8080/"
        },
        "id": "LzrIz7I87h-W",
        "outputId": "d362a8a0-bbae-406f-bd33-fc6fe789e889"
      },
      "outputs": [
        {
          "name": "stdout",
          "output_type": "stream",
          "text": [
            "False\n",
            "True\n"
          ]
        },
        {
          "data": {
            "text/plain": [
              "True"
            ]
          },
          "execution_count": 15,
          "metadata": {},
          "output_type": "execute_result"
        }
      ],
      "source": [
        "# in, not in\n",
        "\n",
        "print('D' not in 'Delhi')\n",
        "\n",
        "print(5 in [2,3,4,5,6])\n",
        "\n",
        "'x' in 'example'"
      ]
    },
    {
      "cell_type": "code",
      "execution_count": null,
      "metadata": {
        "colab": {
          "base_uri": "https://localhost:8080/"
        },
        "id": "C-LoVrYGDEuB",
        "outputId": "5842d198-7b4f-4785-cec7-5735603ab873"
      },
      "outputs": [
        {
          "name": "stdout",
          "output_type": "stream",
          "text": [
            "Enter a 3 digit number666\n",
            "18\n"
          ]
        }
      ],
      "source": [
        "# Program - Find the sum of a 3 digit number entered by the user\n",
        "\n",
        "number = int(input('Enter a 3 digit number'))\n",
        "\n",
        "# 345%10 -> 5\n",
        "a = number%10\n",
        "\n",
        "number = number//10\n",
        "\n",
        "# 34%10 -> 4\n",
        "b = number % 10\n",
        "\n",
        "number = number//10\n",
        "# 3 % 10 -> 3\n",
        "c = number % 10\n",
        "\n",
        "print(a + b + c)"
      ]
    },
    {
      "cell_type": "markdown",
      "metadata": {
        "id": "Iq7CzVFs7mWT"
      },
      "source": [
        "# ------------------------------------------------------------------------------------------------\n",
        "# If-else in Python"
      ]
    },
    {
      "cell_type": "code",
      "execution_count": null,
      "metadata": {},
      "outputs": [],
      "source": [
        "a = int(input(\"Enter your age =\" ))\n",
        "print(\"Your age is:\", a)\n",
        "\n",
        "\n",
        "# conditional operators\n",
        "# <,>,<=,>=, ==,!=\n",
        "\n",
        "if(a>18):\n",
        "    print(\"You can Drive\" )\n",
        "else:\n",
        "    print(\"You can not Drive\")\n",
        "    print( \"Yay!\" )\n",
        "\n",
        "num = int(input(\"Enter the number=\"))\n",
        "if (num < 0):\n",
        "    print(\"Number is negetive\" )\n",
        "elif (num > 0):\n",
        "    if (num <= 10):\n",
        "        print(\"Number is between 0-11\")\n",
        "    elif (num > 10 and num <=10):\n",
        "        print(\"Number is between 11-20\")\n",
        "    else:\n",
        "        print(\"Number is greater than 20\")\n",
        "else:\n",
        "    print(\"Number is zero\")"
      ]
    },
    {
      "cell_type": "code",
      "execution_count": null,
      "metadata": {
        "colab": {
          "base_uri": "https://localhost:8080/"
        },
        "id": "dGz-83pN7oxe",
        "outputId": "01cd71cf-6af3-464a-dcc1-8c21be5e092c"
      },
      "outputs": [
        {
          "name": "stdout",
          "output_type": "stream",
          "text": [
            "enter emailsrhreh\n",
            "enter passworderhetjh\n",
            "Not correct\n"
          ]
        }
      ],
      "source": [
        "# login program and indentation\n",
        "\n",
        "email = input('enter email')\n",
        "password = input('enter password')\n",
        "\n",
        "if email == 'sourov@gmail.com' and password == '1234':\n",
        "  print('Welcome')\n",
        "elif email == 'abir@gmail.com' and password != '1234':\n",
        "  # tell the user\n",
        "  print('Incorrect password')\n",
        "  password = input('enter password again')\n",
        "  if password == '1234':\n",
        "    print('Welcome,finally!')\n",
        "  else:\n",
        "    print('beta tumse na ho paayega!')\n",
        "else:\n",
        "  print('Not correct')"
      ]
    },
    {
      "cell_type": "code",
      "execution_count": null,
      "metadata": {
        "id": "qo_1tY2ABlAX"
      },
      "outputs": [],
      "source": [
        "# if-else examples\n",
        "# 1. Find the min of 3 given numbers\n",
        "# 2. Menu Driven Program"
      ]
    },
    {
      "cell_type": "code",
      "execution_count": null,
      "metadata": {
        "colab": {
          "base_uri": "https://localhost:8080/"
        },
        "id": "gQpTJbMH3W6_",
        "outputId": "3a2ff0d1-a8d2-4b41-eb50-49612c57b612"
      },
      "outputs": [
        {
          "name": "stdout",
          "output_type": "stream",
          "text": [
            "first num4\n",
            "second num1\n",
            "third num10\n",
            "smallest is 1\n"
          ]
        }
      ],
      "source": [
        "# min of 3 number\n",
        "\n",
        "a = int(input('first num'))\n",
        "b = int(input('second num'))\n",
        "c = int(input('third num'))\n",
        "\n",
        "if a<b and a<c:\n",
        "  print('smallest is',a)\n",
        "elif b<c:\n",
        "  print('smallest is',b)\n",
        "else:\n",
        "  print('smallest is',c)"
      ]
    },
    {
      "cell_type": "code",
      "execution_count": 33,
      "metadata": {
        "colab": {
          "base_uri": "https://localhost:8080/"
        },
        "id": "hgNqlC5C4jqF",
        "outputId": "d9a4e001-985d-46fe-fdf4-2767dde7d340"
      },
      "outputs": [
        {
          "name": "stdout",
          "output_type": "stream",
          "text": [
            "balance\n"
          ]
        }
      ],
      "source": [
        "# menu driven calculator\n",
        "menu = input(\"\"\"\n",
        "Hi! how can I help you.\n",
        "1. Enter 1 for pin change\n",
        "2. Enter 2 for balance check\n",
        "3. Enter 3 for withdrawl\n",
        "4. Enter 4 for exit\n",
        "\"\"\")\n",
        "\n",
        "if menu == '1':\n",
        "  print('pin change')\n",
        "elif menu == '2':\n",
        "  print('balance')\n",
        "else:\n",
        "  print('exit')"
      ]
    },
    {
      "cell_type": "markdown",
      "metadata": {
        "id": "532_6mva8A6C"
      },
      "source": [
        "# ------------------------------------------------------------------------------------------------\n",
        "# Modules in Python\n",
        "\n",
        "- math\n",
        "- keywords\n",
        "- random\n",
        "- datetime"
      ]
    },
    {
      "cell_type": "code",
      "execution_count": 34,
      "metadata": {
        "colab": {
          "base_uri": "https://localhost:8080/"
        },
        "id": "x5VXt7wv8G4o",
        "outputId": "0f191ca5-e4c3-4c79-ecf2-dcbd23cbd770"
      },
      "outputs": [
        {
          "data": {
            "text/plain": [
              "14.0"
            ]
          },
          "execution_count": 34,
          "metadata": {},
          "output_type": "execute_result"
        }
      ],
      "source": [
        "# math\n",
        "import math\n",
        "\n",
        "math.sqrt(196)"
      ]
    },
    {
      "cell_type": "code",
      "execution_count": 38,
      "metadata": {
        "colab": {
          "base_uri": "https://localhost:8080/"
        },
        "id": "FLgAX9pz8HBT",
        "outputId": "63de6b39-b796-475b-9b7d-fa22f2019c90"
      },
      "outputs": [
        {
          "name": "stdout",
          "output_type": "stream",
          "text": [
            "['False', 'None', 'True', 'and', 'as', 'assert', 'async', 'await', 'break', 'class', 'continue', 'def', 'del', 'elif', 'else', 'except', 'finally', 'for', 'from', 'global', 'if', 'import', 'in', 'is', 'lambda', 'nonlocal', 'not', 'or', 'pass', 'raise', 'return', 'try', 'while', 'with', 'yield']\n"
          ]
        }
      ],
      "source": [
        "# keyword\n",
        "import keyword\n",
        "print(keyword.kwlist)"
      ]
    },
    {
      "cell_type": "code",
      "execution_count": 39,
      "metadata": {
        "colab": {
          "base_uri": "https://localhost:8080/"
        },
        "id": "R0dWpe-w8HSZ",
        "outputId": "3aa87b74-0699-47d7-8316-73de80dbfeb1"
      },
      "outputs": [
        {
          "name": "stdout",
          "output_type": "stream",
          "text": [
            "79\n"
          ]
        }
      ],
      "source": [
        "# random\n",
        "import random\n",
        "print(random.randint(1,100))"
      ]
    },
    {
      "cell_type": "code",
      "execution_count": 40,
      "metadata": {
        "colab": {
          "base_uri": "https://localhost:8080/"
        },
        "id": "XNHWXsM0iFn3",
        "outputId": "7d219248-ba98-4b2e-a382-57630acea35c"
      },
      "outputs": [
        {
          "name": "stdout",
          "output_type": "stream",
          "text": [
            "2024-08-02 21:26:40.197084\n"
          ]
        }
      ],
      "source": [
        "# datetime\n",
        "import datetime\n",
        "print(datetime.datetime.now())"
      ]
    },
    {
      "cell_type": "code",
      "execution_count": null,
      "metadata": {
        "colab": {
          "base_uri": "https://localhost:8080/"
        },
        "id": "ePMxrlzX8CsQ",
        "outputId": "719443f9-8cb6-48fc-9a02-dee02625fc8f"
      },
      "outputs": [
        {
          "name": "stdout",
          "output_type": "stream",
          "text": [
            "\n",
            "Please wait a moment while I gather a list of all available modules...\n",
            "\n"
          ]
        },
        {
          "name": "stderr",
          "output_type": "stream",
          "text": [
            "/usr/local/lib/python3.7/dist-packages/caffe2/proto/__init__.py:17: UserWarning: Caffe2 support is not enabled in this PyTorch build. Please enable Caffe2 by building PyTorch from source with `BUILD_CAFFE2=1` flag.\n",
            "/usr/local/lib/python3.7/dist-packages/caffe2/proto/__init__.py:17: UserWarning: Caffe2 support is not enabled in this PyTorch build. Please enable Caffe2 by building PyTorch from source with `BUILD_CAFFE2=1` flag.\n",
            "/usr/local/lib/python3.7/dist-packages/caffe2/python/__init__.py:9: UserWarning: Caffe2 support is not enabled in this PyTorch build. Please enable Caffe2 by building PyTorch from source with `BUILD_CAFFE2=1` flag.\n"
          ]
        },
        {
          "name": "stdout",
          "output_type": "stream",
          "text": [
            "Cython              collections         kaggle              requests_oauthlib\n",
            "IPython             colorcet            kanren              resampy\n",
            "OpenGL              colorlover          kapre               resource\n",
            "PIL                 colorsys            keras               rlcompleter\n",
            "ScreenResolution    community           keras_preprocessing rmagic\n",
            "__future__          compileall          keyword             rpy2\n",
            "_abc                concurrent          kiwisolver          rsa\n",
            "_ast                confection          korean_lunar_calendar runpy\n",
            "_asyncio            configparser        langcodes           samples\n",
            "_bisect             cons                lib2to3             sched\n",
            "_blake2             contextlib          libfuturize         scipy\n",
            "_bootlocale         contextlib2         libpasteurize       scs\n",
            "_bz2                contextvars         librosa             seaborn\n",
            "_cffi_backend       convertdate         lightgbm            secrets\n",
            "_codecs             copy                linecache           select\n",
            "_codecs_cn          copyreg             llvmlite            selectors\n",
            "_codecs_hk          crashtest           lmdb                send2trash\n",
            "_codecs_iso2022     crcmod              locale              setuptools\n",
            "_codecs_jp          crypt               locket              setuptools_git\n",
            "_codecs_kr          csimdjson           logging             shapely\n",
            "_codecs_tw          csv                 lsb_release         shelve\n",
            "_collections        ctypes              lunarcalendar       shlex\n",
            "_collections_abc    cufflinks           lxml                shutil\n",
            "_compat_pickle      curses              lzma                signal\n",
            "_compression        cv2                 macpath             simdjson\n",
            "_contextvars        cvxopt              mailbox             site\n",
            "_crypt              cvxpy               mailcap             sitecustomize\n",
            "_csv                cycler              markdown            six\n",
            "_ctypes             cymem               markupsafe          skimage\n",
            "_ctypes_test        cython              marshal             sklearn\n",
            "_curses             cythonmagic         marshmallow         sklearn_pandas\n",
            "_curses_panel       daft                math                slugify\n",
            "_cvxcore            dask                matplotlib          smart_open\n",
            "_datetime           dataclasses         matplotlib_venn     smtpd\n",
            "_dbm                datascience         mimetypes           smtplib\n",
            "_decimal            datetime            missingno           sndhdr\n",
            "_distutils_hack     dateutil            mistune             snowballstemmer\n",
            "_dlib_pybind11      dbm                 mizani              socket\n",
            "_dummy_thread       dbus                mlxtend             socketserver\n",
            "_ecos               debugpy             mmap                socks\n",
            "_elementtree        decimal             modulefinder        sockshandler\n",
            "_functools          decorator           more_itertools      softwareproperties\n",
            "_hashlib            defusedxml          moviepy             sortedcontainers\n",
            "_heapq              descartes           mpmath              soundfile\n",
            "_imp                difflib             msgpack             spacy\n",
            "_io                 dill                multidict           spacy_legacy\n",
            "_json               dis                 multipledispatch    spacy_loggers\n",
            "_locale             distributed         multiprocessing     sphinx\n",
            "_lsprof             distutils           multitasking        spwd\n",
            "_lzma               dlib                murmurhash          sql\n",
            "_markupbase         dns                 music21             sqlalchemy\n",
            "_md5                docs                natsort             sqlite3\n",
            "_multibytecodec     doctest             nbconvert           sqlparse\n",
            "_multiprocessing    docutils            nbformat            sre_compile\n",
            "_opcode             dopamine            netCDF4             sre_constants\n",
            "_operator           dot_parser          netrc               sre_parse\n",
            "_osx_support        dummy_threading     networkx            srsly\n",
            "_pickle             easydict            nibabel             ssl\n",
            "_plotly_future_     ecos                nis                 stan\n",
            "_plotly_utils       editdistance        nisext              stat\n",
            "_posixsubprocess    ee                  nltk                statistics\n",
            "_py_abc             email               nntplib             statsmodels\n",
            "_pydecimal          en_core_web_sm      notebook            storemagic\n",
            "_pyio               encodings           ntpath              string\n",
            "_pyrsistent_version entrypoints         nturl2path          stringprep\n",
            "_pytest             enum                numba               struct\n",
            "_queue              ephem               numbergen           subprocess\n",
            "_random             erfa                numbers             sunau\n",
            "_remote_module_non_scriptable errno               numexpr             symbol\n",
            "_rinterface_cffi_abi et_xmlfile          numpy               sympy\n",
            "_rinterface_cffi_api etils               oauth2client        sympyprinting\n",
            "_scs_direct         etuples             oauthlib            symtable\n",
            "_scs_indirect       fa2                 ogr                 sys\n",
            "_sha1               fastai              okgrade             sysconfig\n",
            "_sha256             fastcore            opcode              syslog\n",
            "_sha3               fastdownload        openpyxl            tables\n",
            "_sha512             fastdtw             operator            tabnanny\n",
            "_signal             fastjsonschema      opt_einsum          tabulate\n",
            "_sitebuiltins       fastprogress        optparse            tarfile\n",
            "_socket             fastrlock           os                  tblib\n",
            "_soundfile          faulthandler        osgeo               telnetlib\n",
            "_sqlite3            fcntl               osqp                tempfile\n",
            "_sre                feather             osqppurepy          tenacity\n",
            "_ssl                filecmp             osr                 tensorboard\n",
            "_stat               fileinput           ossaudiodev         tensorboard_data_server\n",
            "_string             filelock            packaging           tensorboard_plugin_wit\n",
            "_strptime           firebase_admin      palettable          tensorflow\n",
            "_struct             fix_yahoo_finance   pandas              tensorflow_datasets\n",
            "_symtable           flask               pandas_datareader   tensorflow_estimator\n",
            "_sysconfigdata_m_linux_x86_64-linux-gnu flatbuffers         pandas_gbq          tensorflow_gcs_config\n",
            "_sysconfigdata_m_x86_64-linux-gnu fnmatch             pandas_profiling    tensorflow_hub\n",
            "_testbuffer         folium              pandocfilters       tensorflow_io_gcs_filesystem\n",
            "_testcapi           formatter           panel               tensorflow_metadata\n",
            "_testimportmultiple fractions           param               tensorflow_probability\n",
            "_testmultiphase     frozenlist          parser              termcolor\n",
            "_thread             fsspec              parso               terminado\n",
            "_threading_local    ftplib              partd               termios\n",
            "_tkinter            functools           past                test\n",
            "_tracemalloc        future              pasta               testpath\n",
            "_warnings           gast                pastel              tests\n",
            "_weakref            gc                  pathlib             text_unidecode\n",
            "_weakrefset         gdal                pathy               textblob\n",
            "_xxtestfuzz         gdalconst           patsy               textwrap\n",
            "_yaml               gdalnumeric         pdb                 thinc\n",
            "abc                 gdown               pep517              this\n",
            "absl                genericpath         pexpect             threading\n",
            "aeppl               gensim              pickle              threadpoolctl\n",
            "aesara              geographiclib       pickleshare         tifffile\n",
            "aifc                geopy               pickletools         time\n",
            "aiohttp             getopt              pip                 timeit\n",
            "aiosignal           getpass             pipes               tkinter\n",
            "alabaster           gettext             piptools            tlz\n",
            "albumentations      gi                  pkg_resources       token\n",
            "altair              gin                 pkgutil             tokenize\n",
            "antigravity         glob                platform            toml\n",
            "apiclient           glob2               plistlib            tomli\n",
            "appdirs             gnm                 plotly              toolz\n",
            "apt                 google_auth_httplib2 plotlywidget        torch\n",
            "apt_inst            google_auth_oauthlib plotnine            torchaudio\n",
            "apt_pkg             google_drive_downloader pluggy              torchgen\n",
            "aptsources          googleapiclient     pooch               torchsummary\n",
            "argparse            googlesearch        poplib              torchtext\n",
            "array               graphviz            portpicker          torchvision\n",
            "arviz               greenlet            posix               tornado\n",
            "ast                 gridfs              posixpath           tqdm\n",
            "astor               grp                 pprint              trace\n",
            "astropy             grpc                prefetch_generator  traceback\n",
            "astunparse          gspread             preshed             tracemalloc\n",
            "async_timeout       gspread_dataframe   prettytable         traitlets\n",
            "asynchat            gym                 profile             tree\n",
            "asyncio             gym_notices         progressbar         tty\n",
            "asyncore            gzip                promise             turtle\n",
            "asynctest           h5py                prompt_toolkit      tweepy\n",
            "atari_py            hashlib             prophet             typeguard\n",
            "atexit              heapdict            pstats              typer\n",
            "atomicwrites        heapq               psutil              types\n",
            "attr                hijri_converter     psycopg2            typing\n",
            "attrs               hmac                pty                 typing_extensions\n",
            "audioop             holidays            ptyprocess          tzlocal\n",
            "audioread           holoviews           pvectorc            unicodedata\n",
            "autograd            html                pwd                 unification\n",
            "autoreload          html5lib            py                  unittest\n",
            "babel               http                py_compile          uritemplate\n",
            "backcall            httpimport          pyarrow             urllib\n",
            "base64              httplib2            pyasn1              urllib3\n",
            "bdb                 httplib2shim        pyasn1_modules      uu\n",
            "bin                 httpstan            pyclbr              uuid\n",
            "binascii            humanize            pycocotools         vega_datasets\n",
            "binhex              hyperopt            pycparser           venv\n",
            "bisect              idna                pyct                vis\n",
            "bleach              imageio             pydantic            warnings\n",
            "blis                imagesize           pydata_google_auth  wasabi\n",
            "bokeh               imaplib             pydoc               wave\n",
            "boost               imblearn            pydoc_data          wcwidth\n",
            "branca              imgaug              pydot               weakref\n",
            "bs4                 imghdr              pydot_ng            webargs\n",
            "bson                imp                 pydotplus           webbrowser\n",
            "builtins            importlib           pydrive             webencodings\n",
            "bz2                 importlib_metadata  pyemd               werkzeug\n",
            "cProfile            importlib_resources pyexpat             wheel\n",
            "cachecontrol        imutils             pygments            widgetsnbextension\n",
            "cached_property     inflect             pygtkcompat         wordcloud\n",
            "cachetools          inspect             pylab               wrapt\n",
            "caffe2              intervaltree        pylev               wsgiref\n",
            "calendar            io                  pymc                xarray\n",
            "catalogue           ipaddress           pymeeus             xarray_einstats\n",
            "certifi             ipykernel           pymongo             xdrlib\n",
            "cffi                ipykernel_launcher  pymystem3           xgboost\n",
            "cftime              ipython_genutils    pyparsing           xkit\n",
            "cgi                 ipywidgets          pyrsistent          xlrd\n",
            "cgitb               isympy              pysndfile           xlwt\n",
            "chardet             itertools           pytest              xml\n",
            "charset_normalizer  itsdangerous        python_utils        xmlrpc\n",
            "chunk               jax                 pytz                xxlimited\n",
            "clang               jaxlib              pyviz_comms         xxsubtype\n",
            "click               jieba               pywt                yaml\n",
            "client              jinja2              pyximport           yarl\n",
            "clikit              joblib              qdldl               yellowbrick\n",
            "cloudpickle         jpeg4py             qudida              zict\n",
            "cmake               json                queue               zipapp\n",
            "cmath               jsonschema          quopri              zipfile\n",
            "cmd                 jupyter             random              zipimport\n",
            "cmdstanpy           jupyter_client      re                  zipp\n",
            "code                jupyter_console     readline            zlib\n",
            "codecs              jupyter_core        regex               zmq\n",
            "codeop              jupyterlab_plotly   reprlib             \n",
            "colab               jupyterlab_widgets  requests            \n",
            "\n",
            "Enter any module name to get more help.  Or, type \"modules spam\" to search\n",
            "for modules whose name or summary contain the string \"spam\".\n",
            "\n"
          ]
        }
      ],
      "source": [
        "help('modules')"
      ]
    },
    {
      "cell_type": "markdown",
      "metadata": {
        "id": "2Ow6_gWG7ukc"
      },
      "source": [
        "# ------------------------------------------------------------------------------------------------\n",
        "# Loops in Python\n",
        "\n",
        "**loops is this entity by using which you can run same or some logical code multiple times**\n",
        "- loops are used in various softwares. for suppose in a website or software you are searching any product and then you see that there are many variety of this product demonstrate to you.\n",
        "    - For Loop\n",
        "    - While Loop"
      ]
    },
    {
      "cell_type": "markdown",
      "metadata": {},
      "source": [
        "### while loop\n",
        "- In python while loop is a control flow system that repetedly execute a blocks of code as long as a specific contdition is true\n",
        "- for loop is use if range is not given or unknown"
      ]
    },
    {
      "cell_type": "code",
      "execution_count": 49,
      "metadata": {
        "id": "Ig7NIb7L7txg"
      },
      "outputs": [
        {
          "name": "stdout",
          "output_type": "stream",
          "text": [
            "0\n",
            "1\n",
            "2\n",
            "3\n"
          ]
        }
      ],
      "source": [
        "\n",
        "x = 0\n",
        "while(x<4):\n",
        "    print(x)\n",
        "    x = x+1"
      ]
    },
    {
      "cell_type": "code",
      "execution_count": null,
      "metadata": {},
      "outputs": [],
      "source": [
        "i = 0\n",
        "while (i<=15):\n",
        "    i = int(input('Enter the number = '))     # continuously take user input\n",
        "    print(i)"
      ]
    },
    {
      "cell_type": "code",
      "execution_count": 50,
      "metadata": {},
      "outputs": [
        {
          "name": "stdout",
          "output_type": "stream",
          "text": [
            "5\n",
            "4\n",
            "3\n",
            "2\n",
            "1\n",
            "I am inside else\n"
          ]
        }
      ],
      "source": [
        "count = 5\n",
        "while (count>0):\n",
        "    print(count)\n",
        "    count = count-1                          # decreasing order command\n",
        "else:\n",
        "    print('I am inside else')"
      ]
    },
    {
      "cell_type": "code",
      "execution_count": 51,
      "metadata": {},
      "outputs": [
        {
          "name": "stdout",
          "output_type": "stream",
          "text": [
            "5\n",
            "7\n",
            "8\n",
            "0\n"
          ]
        }
      ],
      "source": [
        "i = 0\n",
        "while True:\n",
        "    number = int(input(\"Enter the number\"))\n",
        "    print(number)\n",
        "    if not number >0:\n",
        "        break"
      ]
    },
    {
      "cell_type": "code",
      "execution_count": 46,
      "metadata": {
        "colab": {
          "base_uri": "https://localhost:8080/"
        },
        "id": "brWSxgiu9rrQ",
        "outputId": "eb64e76c-ee60-4584-9d00-9fd6729d39e8"
      },
      "outputs": [
        {
          "name": "stdout",
          "output_type": "stream",
          "text": [
            "5 X 1 = 5\n",
            "5 X 2 = 10\n",
            "5 X 3 = 15\n",
            "5 X 4 = 20\n",
            "5 X 5 = 25\n",
            "5 X 6 = 30\n",
            "5 X 7 = 35\n",
            "5 X 8 = 40\n",
            "5 X 9 = 45\n",
            "5 X 10 = 50\n"
          ]
        }
      ],
      "source": [
        "number = int(input('Enter a number :'))\n",
        "i = 1\n",
        "while i < 11:\n",
        "    print(\"{} X {} =\".format(number, i),number * i)\n",
        "    i = i+1"
      ]
    },
    {
      "cell_type": "code",
      "execution_count": 60,
      "metadata": {},
      "outputs": [
        {
          "name": "stdout",
          "output_type": "stream",
          "text": [
            "You guess lower \n",
            "you gues higher\n",
            "You guess lower \n",
            "you gues higher\n",
            "wow you guess currect\n",
            "attempts 5\n"
          ]
        }
      ],
      "source": [
        "# create a Guess game\n",
        "import random\n",
        "jackpot = random.randint(1, 10)\n",
        "guess = int(input('Enter guess number'))\n",
        "counter = 1\n",
        "while jackpot != guess:\n",
        "    if guess < jackpot:\n",
        "        print('You guess lower ')\n",
        "    else:\n",
        "        print('you gues higher')\n",
        "    guess = int(input('Enter gues number'))\n",
        "    counter = counter + 1\n",
        "else:\n",
        "    print('wow you guess currect')\n",
        "    print('attempts',counter)"
      ]
    },
    {
      "cell_type": "markdown",
      "metadata": {},
      "source": [
        "## for loop\n",
        "- In python  a for loops is a control flow statement used for iterating over a sequence(such as list, tuple, string or range) or any iterable obj\n",
        "- We use for loops when we know the range or we have some sequencial items"
      ]
    },
    {
      "cell_type": "code",
      "execution_count": 74,
      "metadata": {},
      "outputs": [
        {
          "name": "stdout",
          "output_type": "stream",
          "text": [
            "S o u r o v "
          ]
        }
      ],
      "source": [
        "name = 'Sourv'\n",
        "for i in name:\n",
        "    print(i, end=' ')       \n",
        "    if (i==\"r\"):\n",
        "        print('o', end=' ')              # s o u r o v"
      ]
    },
    {
      "cell_type": "code",
      "execution_count": 66,
      "metadata": {
        "colab": {
          "base_uri": "https://localhost:8080/"
        },
        "id": "bjjx0fMr8SWh",
        "outputId": "a3bf4676-a68c-499f-fc00-e0fe0f04285b"
      },
      "outputs": [
        {
          "name": "stdout",
          "output_type": "stream",
          "text": [
            "1\n",
            "2\n",
            "3\n",
            "4\n",
            "5\n"
          ]
        }
      ],
      "source": [
        "for i in {1,2,3,4,5}:\n",
        "  print(i)"
      ]
    },
    {
      "cell_type": "code",
      "execution_count": 43,
      "metadata": {},
      "outputs": [
        {
          "name": "stdout",
          "output_type": "stream",
          "text": [
            "1\n",
            "2\n",
            "3\n",
            "--------------------\n",
            "4\n",
            "3\n",
            "2\n"
          ]
        }
      ],
      "source": [
        "for number in range(1, 4):\n",
        "    print(number)               # 1, 2, 3\n",
        "print('-'*20)\n",
        "\n",
        "for reverse_number in range(4, 1, -1): # <- negetive iteration\n",
        "    print(reverse_number)"
      ]
    },
    {
      "cell_type": "markdown",
      "metadata": {
        "id": "EXnzCtohWx2V"
      },
      "source": [
        "### Program - The current population of a town is 10000. The population of the town is increasing at the rate of 10% per year. You have to write a program to find out the population at the end of each of the last 10 years."
      ]
    },
    {
      "cell_type": "code",
      "execution_count": 5,
      "metadata": {
        "colab": {
          "base_uri": "https://localhost:8080/"
        },
        "id": "Nc_6lslRW03g",
        "outputId": "80e461e9-7ff9-46c1-819d-a5ee314fa91e"
      },
      "outputs": [
        {
          "name": "stdout",
          "output_type": "stream",
          "text": [
            "Population of 10th year : 10000\n",
            "Population of 9th year : 9090.90909090909\n",
            "Population of 8th year : 8264.462809917353\n",
            "Population of 7th year : 7513.148009015775\n",
            "Population of 6th year : 6830.134553650703\n",
            "Population of 5th year : 6209.213230591548\n",
            "Population of 4th year : 5644.739300537771\n",
            "Population of 3th year : 5131.5811823070635\n",
            "Population of 2th year : 4665.07380209733\n",
            "Population of 1th year : 4240.976183724845\n"
          ]
        }
      ],
      "source": [
        "# if current population last year population is x\n",
        "# x + 10%(x) = 10000\n",
        "# x(1+0.1) = 10000\n",
        "# x = 10000/1.1\n",
        "# Code here\n",
        "curr_pop = 10000\n",
        "\n",
        "for i in range(10,0,-1):\n",
        "  print('Population of {}th year :'.format(i),curr_pop)\n",
        "  curr_pop = curr_pop/1.1\n"
      ]
    },
    {
      "cell_type": "markdown",
      "metadata": {
        "id": "kB-F1EYdJ-XU"
      },
      "source": [
        "#### Explanation :\n",
        "\n",
        "\n",
        "\n",
        "To calculate the population for each year with a 10% increase, you can use a simpler equation based on the previous year's population. Let's assume the population of the previous year is represented by variable x.\n",
        "\n",
        "The equation can be written as:\n",
        "\n",
        "> Current Year Population = x * 1.1\n",
        "\n",
        "In this equation, the current year's population is equal to the previous year's population multiplied by 1.1, representing a 10% increase.\n",
        "\n",
        "To find the population of the previous year (x), we can rearrange the equation as follows:\n",
        "\n",
        "> x = Current Year Population / 1.1\n",
        "\n",
        "Using this simplified equation, if you have the current year's population (e.g., 10,000), you can divide it by 1.1 to calculate the population of the previous year.\n",
        "\n",
        "This equation allows you to calculate the population for each year, assuming you know the population of the current year and want to find the population of the previous year."
      ]
    },
    {
      "cell_type": "markdown",
      "metadata": {
        "id": "4xVI9HkgcEla"
      },
      "source": [
        "### Sequence sum\n",
        "\n",
        "1/1! + 2/2! + 3/3! + ..."
      ]
    },
    {
      "cell_type": "code",
      "execution_count": 20,
      "metadata": {
        "id": "wGC1eCDecPcB"
      },
      "outputs": [
        {
          "name": "stdout",
          "output_type": "stream",
          "text": [
            "2.5\n"
          ]
        }
      ],
      "source": [
        "# Sequence sum factorial\n",
        "\n",
        "n = int(input('enter n'))\n",
        "result = 0\n",
        "fact = 1\n",
        "for i in range(1, n+1):\n",
        "    fact = fact*i\n",
        "    result = result+ (i/fact)\n",
        "\n",
        "print(result)"
      ]
    },
    {
      "cell_type": "markdown",
      "metadata": {
        "id": "1bdP8FTX87Du"
      },
      "source": [
        "## Nested Loops\n",
        "- Nested loop is basically a logical construct where you run one loop under another loop"
      ]
    },
    {
      "cell_type": "code",
      "execution_count": 44,
      "metadata": {
        "id": "-YY5edV98lXq"
      },
      "outputs": [
        {
          "name": "stdout",
          "output_type": "stream",
          "text": [
            "1 1\n",
            "1 2\n",
            "1 3\n",
            "1 4\n",
            "2 1\n",
            "2 2\n",
            "2 3\n",
            "2 4\n",
            "3 1\n",
            "3 2\n",
            "3 3\n",
            "3 4\n",
            "4 1\n",
            "4 2\n",
            "4 3\n",
            "4 4\n"
          ]
        }
      ],
      "source": [
        "# problem : print pairs of number\n",
        "\n",
        "for i in range(1, 5):\n",
        "    for j in range(1, 5):\n",
        "        print(i, j)"
      ]
    },
    {
      "cell_type": "code",
      "execution_count": 45,
      "metadata": {},
      "outputs": [
        {
          "name": "stdout",
          "output_type": "stream",
          "text": [
            "Red\n",
            "R\n",
            "e\n",
            "d\n",
            "Green\n",
            "G\n",
            "r\n",
            "e\n",
            "e\n",
            "n\n"
          ]
        }
      ],
      "source": [
        "colors = ['Red', 'Green']\n",
        "for color in colors:\n",
        "    print(color)                # Red Green\n",
        "    for letter in color:\n",
        "        print(letter)           # Red R e d  Green G r e e n"
      ]
    },
    {
      "cell_type": "code",
      "execution_count": 46,
      "metadata": {
        "id": "Ym8nRkqxGXLN"
      },
      "outputs": [
        {
          "name": "stdout",
          "output_type": "stream",
          "text": [
            "* \n",
            "* * \n",
            "* * * \n",
            "* * * * \n",
            "* * * * * \n"
          ]
        }
      ],
      "source": [
        "# Print patterns : astric\n",
        "row = int(input('enter number of rows :'))\n",
        "for i in range(1, row+1):\n",
        "    for j in range(1, i+1):\n",
        "        print('*', end=' ')\n",
        "\n",
        "    print()\n",
        "\n",
        "\n",
        "# # sloly execute code\n",
        "# import time\n",
        "# # Print patterns : astric\n",
        "# row = int(input('enter number of rows :'))\n",
        "# for i in range(1, row+1):\n",
        "#     for j in range(1, i+1):\n",
        "#         time.sleep(0.30)\n",
        "#         print('*', end=' ')\n",
        "\n",
        "#     print()"
      ]
    },
    {
      "cell_type": "markdown",
      "metadata": {
        "id": "eVAO3tVmdOWV"
      },
      "source": [
        "### Pattern 2\n",
        "\n",
        "1<br>\n",
        "121<br>\n",
        "12321<br>\n",
        "1234321<br>"
      ]
    },
    {
      "cell_type": "code",
      "execution_count": 39,
      "metadata": {
        "id": "sHW4YJqcdXzw"
      },
      "outputs": [
        {
          "name": "stdout",
          "output_type": "stream",
          "text": [
            "1 \n",
            "1 2 1 \n",
            "1 2 3 2 1 \n",
            "1 2 3 4 3 2 1 \n"
          ]
        }
      ],
      "source": [
        "number = int(input('Enter number of pattern number :'))\n",
        "\n",
        "for i in range(1, number+1):\n",
        "    for j in range(1, i+1):\n",
        "        print(j, end=' ')\n",
        "    for k in range(i-1, 0, -1):\n",
        "        print(k, end=' ')\n",
        "\n",
        "    print()"
      ]
    },
    {
      "cell_type": "markdown",
      "metadata": {
        "id": "8GccSRIt891U"
      },
      "source": [
        "## Loop Control Statement\n",
        "\n",
        "- Break\n",
        "- Continue\n",
        "- Pass"
      ]
    },
    {
      "cell_type": "code",
      "execution_count": 50,
      "metadata": {},
      "outputs": [
        {
          "name": "stdout",
          "output_type": "stream",
          "text": [
            "1\n",
            "2\n",
            "3\n",
            "4\n"
          ]
        }
      ],
      "source": [
        "# break : linear search is an example of break :  when find item then break\n",
        "# Suppose in a database you are searching a customer from 1 cr customer . When you find that particular customer within few number of iteration you break it\n",
        "for i in range(1,10):\n",
        "  if i == 5:\n",
        "    break\n",
        "  print(i)"
      ]
    },
    {
      "cell_type": "code",
      "execution_count": 60,
      "metadata": {},
      "outputs": [
        {
          "name": "stdout",
          "output_type": "stream",
          "text": [
            "2\n",
            "3\n",
            "5\n",
            "7\n",
            "11\n",
            "13\n",
            "17\n",
            "19\n",
            "23\n",
            "29\n",
            "31\n",
            "37\n",
            "41\n",
            "43\n",
            "47\n"
          ]
        }
      ],
      "source": [
        "# problem : Print all prime numbers (moulic sonkha)\n",
        "\n",
        "lo = 2\n",
        "hi = 50\n",
        "\n",
        "for i in range(lo, hi+1):\n",
        "    for j in range(2, i):\n",
        "        # check each i value by division j \n",
        "        # weather prime or not\n",
        "        if i%j == 0: \n",
        "            break\n",
        "    else:\n",
        "        print(i)"
      ]
    },
    {
      "cell_type": "code",
      "execution_count": 63,
      "metadata": {},
      "outputs": [
        {
          "name": "stdout",
          "output_type": "stream",
          "text": [
            "1\n",
            "2\n",
            "4\n",
            "6\n"
          ]
        }
      ],
      "source": [
        "# Continue : Continue statement for particular iteration it skip all code and go through next iteration\n",
        "\n",
        "# suppose you want to display all product in a e-comerse website: but you dont want to display those product whose stock zero\n",
        "for i in range(1,7):\n",
        "  if i == 3:\n",
        "    continue\n",
        "  if i == 5:\n",
        "    continue\n",
        "  print(i)"
      ]
    },
    {
      "cell_type": "code",
      "execution_count": 49,
      "metadata": {
        "id": "kN9s2dG89DlJ"
      },
      "outputs": [
        {
          "name": "stdout",
          "output_type": "stream",
          "text": [
            "5 X 1 = 5\n",
            "5 X 2 = 10\n",
            "5 X 3 = 15\n",
            "5 X 4 = 20\n",
            "5 X 5 = 25\n",
            "5 X 6 = 30\n",
            "5 X 7 = 35\n"
          ]
        }
      ],
      "source": [
        "for i in range(1, 11):\n",
        "    print(f\"5 X {i} = {5*i}\")\n",
        "    if (i==5):\n",
        "        continue\n",
        "    elif (i==7):\n",
        "        break "
      ]
    },
    {
      "cell_type": "code",
      "execution_count": null,
      "metadata": {},
      "outputs": [],
      "source": [
        "# pass statement : basically use when you will write some code here in future\n",
        "for i in range(1,10):\n",
        "  pass"
      ]
    }
  ],
  "metadata": {
    "colab": {
      "provenance": []
    },
    "kernelspec": {
      "display_name": "Python 3",
      "name": "python3"
    },
    "language_info": {
      "codemirror_mode": {
        "name": "ipython",
        "version": 3
      },
      "file_extension": ".py",
      "mimetype": "text/x-python",
      "name": "python",
      "nbconvert_exporter": "python",
      "pygments_lexer": "ipython3",
      "version": "3.11.4"
    }
  },
  "nbformat": 4,
  "nbformat_minor": 0
}
