{
  "cells": [
    {
      "cell_type": "markdown",
      "metadata": {},
      "source": [
        "# **Object Oriented Programming : OOP**\n",
        "- OPP do Generality to specificity\n",
        "- Everything in python is an object\n",
        "- The main power of OOP is that OOP gives a programmer the power to create his own datatypes\n",
        "- Actually OOP it the way to write code for build something efficiently so that it can be reuseable, accessible and oriented"
      ]
    },
    {
      "cell_type": "markdown",
      "metadata": {},
      "source": [
        "## There are 6 principle in OOP\n",
        "- **1. Class**\n",
        "- **2. Object**\n",
        "- **3. Polymorphism**\n",
        "- **4. Encapsulation**\n",
        "- **5. Inheritance**\n",
        "- **6. Abstraction**"
      ]
    },
    {
      "cell_type": "code",
      "execution_count": 4,
      "metadata": {
        "colab": {
          "base_uri": "https://localhost:8080/",
          "height": 205
        },
        "id": "3rwuRliDnX7y",
        "outputId": "6115092b-d6f7-4ef3-91fc-4d46ca119b09"
      },
      "outputs": [
        {
          "ename": "AttributeError",
          "evalue": "'list' object has no attribute 'upper'",
          "output_type": "error",
          "traceback": [
            "\u001b[1;31m---------------------------------------------------------------------------\u001b[0m",
            "\u001b[1;31mAttributeError\u001b[0m                            Traceback (most recent call last)",
            "Cell \u001b[1;32mIn[4], line 2\u001b[0m\n\u001b[0;32m      1\u001b[0m L \u001b[38;5;241m=\u001b[39m [\u001b[38;5;241m1\u001b[39m,\u001b[38;5;241m2\u001b[39m,\u001b[38;5;241m3\u001b[39m]\n\u001b[1;32m----> 2\u001b[0m L\u001b[38;5;241m.\u001b[39mupper()\n",
            "\u001b[1;31mAttributeError\u001b[0m: 'list' object has no attribute 'upper'"
          ]
        }
      ],
      "source": [
        "L = [1,2,3]\n",
        "L.upper()"
      ]
    },
    {
      "cell_type": "markdown",
      "metadata": {},
      "source": [
        "'list' object has no attribute 'upper'"
      ]
    },
    {
      "cell_type": "code",
      "execution_count": 5,
      "metadata": {
        "colab": {
          "base_uri": "https://localhost:8080/",
          "height": 187
        },
        "id": "96Kwr6nLnyDM",
        "outputId": "9845bb6f-e342-4054-d1ca-bb790b8da96d"
      },
      "outputs": [
        {
          "ename": "AttributeError",
          "evalue": "'str' object has no attribute 'append'",
          "output_type": "error",
          "traceback": [
            "\u001b[1;31m---------------------------------------------------------------------------\u001b[0m",
            "\u001b[1;31mAttributeError\u001b[0m                            Traceback (most recent call last)",
            "Cell \u001b[1;32mIn[5], line 2\u001b[0m\n\u001b[0;32m      1\u001b[0m s \u001b[38;5;241m=\u001b[39m \u001b[38;5;124m'\u001b[39m\u001b[38;5;124mhello\u001b[39m\u001b[38;5;124m'\u001b[39m\n\u001b[1;32m----> 2\u001b[0m s\u001b[38;5;241m.\u001b[39mappend(\u001b[38;5;124m'\u001b[39m\u001b[38;5;124mx\u001b[39m\u001b[38;5;124m'\u001b[39m)\n",
            "\u001b[1;31mAttributeError\u001b[0m: 'str' object has no attribute 'append'"
          ]
        }
      ],
      "source": [
        "s = 'hello'\n",
        "s.append('x')"
      ]
    },
    {
      "cell_type": "markdown",
      "metadata": {},
      "source": [
        "'str' object has no attribute 'append'"
      ]
    },
    {
      "cell_type": "code",
      "execution_count": 6,
      "metadata": {
        "colab": {
          "base_uri": "https://localhost:8080/"
        },
        "id": "mmHow1wwn9TG",
        "outputId": "ab6a35e4-e395-4fe2-f9fb-b236eefc3526"
      },
      "outputs": [
        {
          "name": "stdout",
          "output_type": "stream",
          "text": [
            "<class 'list'>\n"
          ]
        }
      ],
      "source": [
        "L = [1,2,3]\n",
        "print(type(L))"
      ]
    },
    {
      "cell_type": "code",
      "execution_count": null,
      "metadata": {
        "id": "uYaUUd8uqh8G"
      },
      "outputs": [],
      "source": [
        "s = [1,2,3]"
      ]
    },
    {
      "cell_type": "markdown",
      "metadata": {},
      "source": [
        "# Class & Object\n",
        "\n",
        "> Class\n",
        "- Whatever datatypes you learned in python int, float, list, sets, dict, tuples they all are classes in python (builtin classes). \n",
        "- Class is basicaly a blueprint , a set of rules how objects of that class will behave\n",
        "- there are two types of classes in python (builtin & user_define classes)\n",
        "- What we write in class (set of rules) ?\n",
        "    - Attribute (Data/ property)\n",
        "    - Function or behavior\n",
        "    \n",
        "    ```python\n",
        "    class Car:\n",
        "        color = 'blue' #data\n",
        "        model = \"sports\" # data\n",
        "        def calculate_avg_speed(km, time): #<- function/ behavior\n",
        "            # some code\n",
        "\n",
        "\n",
        "> Object\n",
        "- Whenever you create a variable of these datatypes then python says that variable is a object of that class\n",
        "- Object is an instance of the class"
      ]
    },
    {
      "cell_type": "code",
      "execution_count": null,
      "metadata": {},
      "outputs": [],
      "source": [
        "L = [1, 2, 3, 4]\n",
        "L."
      ]
    },
    {
      "cell_type": "code",
      "execution_count": null,
      "metadata": {
        "id": "UrQCJI-xqkyX"
      },
      "outputs": [],
      "source": [
        "# syntax to create an object\n",
        "\n",
        "#objectname = classname()"
      ]
    },
    {
      "cell_type": "code",
      "execution_count": 7,
      "metadata": {
        "id": "BE1pbysesWlD"
      },
      "outputs": [],
      "source": [
        "# object literal\n",
        "L = [1,2,3]"
      ]
    },
    {
      "cell_type": "code",
      "execution_count": 8,
      "metadata": {
        "colab": {
          "base_uri": "https://localhost:8080/"
        },
        "id": "EuMPro8hsbB3",
        "outputId": "aad19e46-44ad-4b86-86b2-ded54a6a4a29"
      },
      "outputs": [
        {
          "data": {
            "text/plain": [
              "[]"
            ]
          },
          "execution_count": 8,
          "metadata": {},
          "output_type": "execute_result"
        }
      ],
      "source": [
        "L = list()\n",
        "L"
      ]
    },
    {
      "cell_type": "code",
      "execution_count": 9,
      "metadata": {
        "colab": {
          "base_uri": "https://localhost:8080/",
          "height": 36
        },
        "id": "F_pB8wsPsdA9",
        "outputId": "ca758fc3-330c-4ec4-bb4f-5863c7c03d7a"
      },
      "outputs": [
        {
          "data": {
            "text/plain": [
              "''"
            ]
          },
          "execution_count": 9,
          "metadata": {},
          "output_type": "execute_result"
        }
      ],
      "source": [
        "s = str()\n",
        "s"
      ]
    },
    {
      "cell_type": "code",
      "execution_count": null,
      "metadata": {
        "id": "ffVNGUBhtMrL"
      },
      "outputs": [],
      "source": [
        "# how take class name?\n",
        "# Pascal Case:No space between two word and every word starts with capital letter\n",
        "HelloWorld"
      ]
    },
    {
      "cell_type": "markdown",
      "metadata": {},
      "source": [
        "### Creating a class (user define class)\n",
        "- Whenever you create a variable inside the class you have to create them inside the constructor and you have to create variable like self.variable\n",
        "- Constructor is a special function because under the constructor any variable you can execute without calling the constructor function when you create a object of that function"
      ]
    },
    {
      "cell_type": "code",
      "execution_count": 1,
      "metadata": {},
      "outputs": [
        {
          "name": "stdout",
          "output_type": "stream",
          "text": [
            "I am executed\n",
            "pin created suncessfully\n",
            " ! your pin is wrongt\n",
            "pin created suncessfully\n"
          ]
        },
        {
          "ename": "",
          "evalue": "",
          "output_type": "error",
          "traceback": [
            "\u001b[1;31mThe Kernel crashed while executing code in the current cell or a previous cell. \n",
            "\u001b[1;31mPlease review the code in the cell(s) to identify a possible cause of the failure. \n",
            "\u001b[1;31mClick <a href='https://aka.ms/vscodeJupyterKernelCrash'>here</a> for more info. \n",
            "\u001b[1;31mView Jupyter <a href='command:jupyter.viewOutput'>log</a> for further details."
          ]
        }
      ],
      "source": [
        "class Atm:\n",
        "    # There will two thing  come in a class (Data, function)\n",
        "    # you will think at first what types of  data and function you need\n",
        "\n",
        "    # Constructor (special function) -> superpower ->\n",
        "    def __init__(self):\n",
        "        self.pin = ''\n",
        "        self.balance = 0\n",
        "        print('I am executed') # whatever thing you write in constructor it atutomatically execute when create an object and run it\n",
        "        self.menu()\n",
        "    \n",
        "    def menu(self):\n",
        "        user_input = input(\"\"\"\n",
        "        Hi how can I help you?\n",
        "        1. Press 1 to create pin\n",
        "        2. Press 2 to change pin\n",
        "        3. Press 3 to check balance\n",
        "        4. Press 4 to withdraw\n",
        "        5. Anything else to exit\n",
        "        \"\"\")\n",
        "        if user_input == '1':\n",
        "            # create pin\n",
        "            self.create_pin()\n",
        "        elif user_input == '2':\n",
        "            # change pin\n",
        "            self.change_pin()\n",
        "        elif user_input == '3':\n",
        "            # check balance\n",
        "            pass\n",
        "        elif user_input == '4':\n",
        "            # withdraw\n",
        "            pass\n",
        "        else:\n",
        "            exit()\n",
        "\n",
        "\n",
        "    def create_pin(self):\n",
        "        user_pin = input('Enter your pin')\n",
        "        self.pin = user_pin\n",
        "\n",
        "\n",
        "        user_balance = int(input('enter balance'))\n",
        "        self.balance = user_balance\n",
        "        print('pin created suncessfully')\n",
        "        self.menu()\n",
        "\n",
        "    \n",
        "    def change_pin(self):\n",
        "        old_pin = int(input('Enter your current pin'))\n",
        "        if old_pin == self.pin:\n",
        "            new_pin = input('Enter new pin')\n",
        "            print('pin change successfull')\n",
        "            self.menu()\n",
        "        else:\n",
        "            print(' ! your pin is wrongt')\n",
        "            self.menu()\n",
        "\n",
        "\n",
        "\n",
        "obj = Atm()"
      ]
    },
    {
      "cell_type": "code",
      "execution_count": 2,
      "metadata": {},
      "outputs": [
        {
          "name": "stdout",
          "output_type": "stream",
          "text": [
            "<class '__main__.Atm'>\n"
          ]
        }
      ],
      "source": [
        "print(type(obj))"
      ]
    },
    {
      "cell_type": "code",
      "execution_count": 1,
      "metadata": {
        "id": "76IAiCrBshyW"
      },
      "outputs": [],
      "source": [
        "class Atm:\n",
        "  # There will two thing  come in a class (Data, function)\n",
        "  # you will think at first what types of  data and function you need\n",
        "  \n",
        "  # constructor(special function)->superpower ->\n",
        "  def __init__(self):\n",
        "    print(id(self))\n",
        "    self.pin = ''\n",
        "    self.balance = 0\n",
        "    print('i am exucuted') # whatever thing you write in constructor it atutomatically execute when create an object and run it\n",
        "    #self.menu()\n",
        "\n",
        "  def menu(self):\n",
        "    user_input = input(\"\"\"\n",
        "    Hi how can I help you?\n",
        "    1. Press 1 to create pin\n",
        "    2. Press 2 to change pin\n",
        "    3. Press 3 to check balance\n",
        "    4. Press 4 to withdraw\n",
        "    5. Anything else to exit\n",
        "    \"\"\")\n",
        "\n",
        "    if user_input == '1':\n",
        "      self.create_pin()\n",
        "    elif user_input == '2':\n",
        "      self.change_pin()\n",
        "    elif user_input == '3':\n",
        "      self.check_balance()\n",
        "    elif user_input == '4':\n",
        "      self.withdraw()\n",
        "    else:\n",
        "      exit()\n",
        "\n",
        "  def create_pin(self):\n",
        "    user_pin = input('enter your pin')\n",
        "    self.pin = user_pin\n",
        "\n",
        "    user_balance = int(input('enter balance'))\n",
        "    self.balance = user_balance\n",
        "\n",
        "    print('pin created successfully')\n",
        "    self.menu()\n",
        "\n",
        "  def change_pin():\n",
        "    old_pin = input('enter old pin')\n",
        "\n",
        "    if old_pin == self.pin:\n",
        "      # let him change the pin\n",
        "      new_pin = input('enter new pin')\n",
        "      self.pin = new_pin\n",
        "      print('pin change successful')\n",
        "      self.menu()\n",
        "    else:\n",
        "      print('! no your pin is wrong')\n",
        "      self.menu()\n",
        "\n",
        "  def check_balance(self):\n",
        "    user_pin = input('enter your pin')\n",
        "    if user_pin == self.pin:\n",
        "      print('your balance is ',self.balance)\n",
        "    else:\n",
        "      print('wrong pin')\n",
        "\n",
        "  def withdraw(self):\n",
        "    user_pin = input('enter the pin')\n",
        "    if user_pin == self.pin:\n",
        "      # allow to withdraw\n",
        "      amount = int(input('enter the amount'))\n",
        "      if amount <= self.balance:\n",
        "        self.balance = self.balance - amount\n",
        "        print('withdrawl successful.balance is',self.balance)\n",
        "      else:\n",
        "        print('not enough money ')\n",
        "    else:\n",
        "      print('You are faud')\n",
        "    self.menu()\n"
      ]
    },
    {
      "cell_type": "code",
      "execution_count": null,
      "metadata": {
        "colab": {
          "base_uri": "https://localhost:8080/"
        },
        "id": "nT1VdlNauFYf",
        "outputId": "c999bb53-021f-4b1d-ab86-9c07614670f2"
      },
      "outputs": [
        {
          "name": "stdout",
          "output_type": "stream",
          "text": [
            "140289660099024\n"
          ]
        }
      ],
      "source": [
        "obj1 = Atm()"
      ]
    },
    {
      "cell_type": "code",
      "execution_count": null,
      "metadata": {
        "colab": {
          "base_uri": "https://localhost:8080/"
        },
        "id": "zfF7WE1LuWzp",
        "outputId": "dc720059-b16b-4d1a-9b07-dff807a19ccd"
      },
      "outputs": [
        {
          "data": {
            "text/plain": [
              "140289660099024"
            ]
          },
          "execution_count": 9,
          "metadata": {},
          "output_type": "execute_result"
        }
      ],
      "source": [
        "id(obj1)"
      ]
    },
    {
      "cell_type": "code",
      "execution_count": null,
      "metadata": {
        "colab": {
          "base_uri": "https://localhost:8080/"
        },
        "id": "NHJEFG6CuY1v",
        "outputId": "b6d60e51-ca4a-46b3-c95c-58ac30bf107d"
      },
      "outputs": [
        {
          "name": "stdout",
          "output_type": "stream",
          "text": [
            "140289660586384\n"
          ]
        }
      ],
      "source": [
        "obj2 = Atm()"
      ]
    },
    {
      "cell_type": "code",
      "execution_count": null,
      "metadata": {
        "colab": {
          "base_uri": "https://localhost:8080/"
        },
        "id": "2RmYPjp0-m5F",
        "outputId": "3c55ae5b-fea6-42b1-eb88-abd54c925aaf"
      },
      "outputs": [
        {
          "data": {
            "text/plain": [
              "140289660586384"
            ]
          },
          "execution_count": 11,
          "metadata": {},
          "output_type": "execute_result"
        }
      ],
      "source": [
        "id(obj2)"
      ]
    },
    {
      "cell_type": "markdown",
      "metadata": {},
      "source": [
        "## Method vs Functions\n",
        "\n",
        "- **Method** : When you work with OOP and you build class , under that class any function you create like (see above i created create_pin(), change_pin(), withdraw()) those function are called method in OOP. Basically if any function is implemented under a class than i will call it Mehtod\n",
        "\n",
        "\n",
        "- **Functions** : Out of class any Function you create those are called actual function . Basically if a function independently implemented than i will call it idle  function"
      ]
    },
    {
      "cell_type": "code",
      "execution_count": 4,
      "metadata": {
        "id": "qMYm7tYJv_s2"
      },
      "outputs": [],
      "source": [
        "L = [1,2,3]\n",
        "len(L) # function ->bcos it is outside the list class\n",
        "\n",
        "L.append(4)# method -> bcos it is inside the list class"
      ]
    },
    {
      "cell_type": "markdown",
      "metadata": {},
      "source": [
        "## Class Diagram\n",
        "|              Class Name                 |\n",
        "|---------------------------------------- |\n",
        "|     Data / Variabel /Attribute  +   +   | \n",
        "|               Method        +     -     |    \n",
        "\n",
        "- **(+)** means public  : That particular thing is visible outside the class\n",
        "\n",
        "- **(-)** means  private : That particular thing is not visible outside the class\n",
        "\n"
      ]
    },
    {
      "cell_type": "code",
      "execution_count": null,
      "metadata": {
        "colab": {
          "base_uri": "https://localhost:8080/"
        },
        "id": "w52ABPIX4dbv",
        "outputId": "c35dae21-2ab4-4a1f-ec98-05d962bdf12c"
      },
      "outputs": [
        {
          "data": {
            "text/plain": [
              "0.375"
            ]
          },
          "execution_count": 7,
          "metadata": {},
          "output_type": "execute_result"
        }
      ],
      "source": [
        "3/4*1/2"
      ]
    },
    {
      "cell_type": "markdown",
      "metadata": {},
      "source": [
        "## Magic Methods : Dunder method in python\n",
        "\n",
        "- **Magic method is a special kind of method. Every magic method have their own super power. Magic method denote like double underscro (name) __ name __**\n",
        "\n",
        "- By using magic method you can create your own Datatypes\n"
      ]
    },
    {
      "cell_type": "markdown",
      "metadata": {},
      "source": [
        "### Constructor\n",
        "__ init __ is alos a magic method. Because unlike other function you do not need to call the function to execute under attibute or method . That is the superpower of the constructor\n",
        "\n",
        "> What is the benifit of using Constructor ?\n",
        "- Ans : Basically please see above class we created there.Under the class we created method like check_balance(), set_pin() those method will only call when user want (User press the button). But you can see  One method is not controlled by user . That is constructor __init__  . That means the thing you dont want to give user dependent (user access to change), You want automatically executtion you will write this code under constructor.  Constructor is use to write configuration related code (like  i want to connect my application with database , backend service, connect with internet ) those  code i will write in constructor.\n",
        "\n",
        "> Example of Constructor : If  God is the porgrammer , Earth is the class , we human being are object . so what would be the code in constructor ? The code / the power which God do not give access us that code would be under constructor .(death) control is only have God\n",
        "\n",
        "\n",
        "### Golden Rule of Object Oriented Programming\n",
        "- There are two thing in OOP (class, object) . You create all rule or method in class, objects follow those rule. Under rules you create 2 thing, (attribute/Data , method/function). \n",
        "> Golden Rule says Who can only access members, data, method under your class ?\n",
        "- The answer is object of that class.\n",
        "\n",
        "### Self : What is self?\n",
        "- Whatever method you create under class self is a default parameter. Specially for constructor all variable all variable is adjuct self.variable. And even we you call any method  you use self.method().\n",
        "\n",
        "- By the Logic of  Golden rule of OOP any method under class can not access another method within iteself of that class. Self  keyword give the power to access to call one method under another method\n",
        "\n",
        "- Self is nothing but the current  object we work on or you create. see above memory adress above class\n",
        "\n",
        "- When you craete and object and write **obj.check_balance()** then object pass as default arguments in check_balance() method"
      ]
    },
    {
      "cell_type": "code",
      "execution_count": 6,
      "metadata": {},
      "outputs": [
        {
          "name": "stdout",
          "output_type": "stream",
          "text": [
            "Hello\n"
          ]
        }
      ],
      "source": [
        "class Temp:\n",
        "    def __init__(self):\n",
        "        print('Hello')\n",
        "\n",
        "obj = Temp()"
      ]
    },
    {
      "cell_type": "markdown",
      "metadata": {},
      "source": [
        "## Creating our own Datatype using OOP"
      ]
    },
    {
      "cell_type": "code",
      "execution_count": 41,
      "metadata": {},
      "outputs": [],
      "source": [
        "# Vognangsho\n",
        "class Fraction:\n",
        "\n",
        "    # Parameterized constructor\n",
        "    def __init__(self, x, y):\n",
        "        self.nom = x\n",
        "        self.dnom = y\n",
        "    \n",
        "    # print magic method\n",
        "    def __str__(self):\n",
        "        return '{}/{}'.format(self.nom, self.dnom)\n",
        "    \n",
        "    def __add__(self, other): # <- When you use + operation between two object it call\n",
        "        # self is first object and other is second object\n",
        "        new_nom = self.nom * other.dnom + other.nom * self.dnom\n",
        "        new_dnom = self.dnom * other.dnom\n",
        "\n",
        "        return '{}/{}'.format(new_nom, new_dnom)\n",
        "    \n",
        "    def __sub__(self,other):\n",
        "        new_nom = self.nom*other.dnom - other.nom*self.dnom\n",
        "        new_dnom = self.dnom*other.dnom\n",
        "\n",
        "        return '{}/{}'.format(new_nom,new_dnom)\n",
        "    \n",
        "    def __mul__(self,other):\n",
        "        new_nom = self.nom*other.nom\n",
        "        new_dnom = self.dnom*other.dnom\n",
        "\n",
        "        return '{}/{}'.format(new_nom,new_dnom)\n",
        "    \n",
        "    def __truediv__(self,other):\n",
        "        new_nom = self.nom*other.dnom\n",
        "        new_dnom = self.dnom*other.nom\n",
        "\n",
        "        return '{}/{}'.format(new_nom,new_dnom)\n",
        "    \n",
        "    def convert_to_decimal(self):\n",
        "        return self.nom/self.dnom\n",
        "    "
      ]
    },
    {
      "cell_type": "code",
      "execution_count": 42,
      "metadata": {},
      "outputs": [],
      "source": [
        "fr1 = Fraction(3, 4)"
      ]
    },
    {
      "cell_type": "code",
      "execution_count": 43,
      "metadata": {},
      "outputs": [],
      "source": [
        "fr2 = Fraction(1, 2)"
      ]
    },
    {
      "cell_type": "code",
      "execution_count": 24,
      "metadata": {},
      "outputs": [
        {
          "name": "stdout",
          "output_type": "stream",
          "text": [
            "<class '__main__.Fraction'>\n"
          ]
        }
      ],
      "source": [
        "print(type(fr1))"
      ]
    },
    {
      "cell_type": "code",
      "execution_count": 12,
      "metadata": {},
      "outputs": [
        {
          "name": "stdout",
          "output_type": "stream",
          "text": [
            "<__main__.Fraction object at 0x00000274C4578350>\n"
          ]
        }
      ],
      "source": [
        "print(fr1) # To print object  properly of python class we should use magic method __str__ uder the class"
      ]
    },
    {
      "cell_type": "code",
      "execution_count": 44,
      "metadata": {},
      "outputs": [
        {
          "name": "stdout",
          "output_type": "stream",
          "text": [
            "3/4\n"
          ]
        }
      ],
      "source": [
        "print(fr1)"
      ]
    },
    {
      "cell_type": "code",
      "execution_count": 45,
      "metadata": {},
      "outputs": [
        {
          "data": {
            "text/plain": [
              "'10/8'"
            ]
          },
          "execution_count": 45,
          "metadata": {},
          "output_type": "execute_result"
        }
      ],
      "source": [
        "fr1+fr2"
      ]
    },
    {
      "cell_type": "code",
      "execution_count": 47,
      "metadata": {},
      "outputs": [
        {
          "name": "stdout",
          "output_type": "stream",
          "text": [
            "10/8\n",
            "2/8\n",
            "3/8\n",
            "6/4\n"
          ]
        }
      ],
      "source": [
        "print(fr1 + fr2)\n",
        "print(fr1 - fr2)\n",
        "print(fr1 * fr2)\n",
        "print(fr1 / fr2)"
      ]
    }
  ],
  "metadata": {
    "colab": {
      "provenance": []
    },
    "kernelspec": {
      "display_name": "Python 3",
      "name": "python3"
    },
    "language_info": {
      "codemirror_mode": {
        "name": "ipython",
        "version": 3
      },
      "file_extension": ".py",
      "mimetype": "text/x-python",
      "name": "python",
      "nbconvert_exporter": "python",
      "pygments_lexer": "ipython3",
      "version": "3.11.5"
    }
  },
  "nbformat": 4,
  "nbformat_minor": 0
}
