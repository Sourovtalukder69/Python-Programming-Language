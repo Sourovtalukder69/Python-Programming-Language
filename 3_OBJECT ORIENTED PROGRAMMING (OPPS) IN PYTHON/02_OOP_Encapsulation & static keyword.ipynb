{
  "cells": [
    {
      "cell_type": "markdown",
      "metadata": {},
      "source": [
        "# **Encapsulation & Static keyword**"
      ]
    },
    {
      "cell_type": "markdown",
      "metadata": {
        "id": "JUmWTebLbjwN"
      },
      "source": [
        "### **Q**: Write OOP classes to handle the following scenarios:\n",
        "\n",
        "- A user can create and view 2D coordinates\n",
        "- A user can find out the distance between 2 coordinates\n",
        "- A user can find find the distance of a coordinate from origin\n",
        "- A user can check if a point lies on a given line\n",
        "- A user can find the distance between a given 2D point and a given line\n",
        "\n"
      ]
    },
    {
      "cell_type": "code",
      "execution_count": 52,
      "metadata": {},
      "outputs": [],
      "source": [
        "class Point:\n",
        "    def __init__(self, x, y):\n",
        "        self.x_cod = x\n",
        "        self.y_cod = y\n",
        "\n",
        "    def __str__(self):\n",
        "        return '<{}, {}>'.format(self.x_cod, self.y_cod)\n",
        "    \n",
        "    def euclidean_distance(self, other): # <- self: First point object ; other : 2nd point object\n",
        "        return ((self.x_cod - other.x_cod)**2 + (self.y_cod - other.y_cod)**2)**0.5\n",
        "    \n",
        "    def distance_from_origin(self):\n",
        "        # return (self.x_cod**2 + self.y_cod**2)**0.5\n",
        "        # smart way \n",
        "        return self.euclidean_distance(Point(0, 0)) # <- Try to understand this code\n",
        "\n",
        "\n",
        "class Line:\n",
        "    def __init__(self, A, B, C):\n",
        "        self.A = A\n",
        "        self.B = B\n",
        "        self.C = C\n",
        "\n",
        "    def __str__(self):\n",
        "        return '{}x + {}y + {} = 0'.format(self.A, self.B, self.C)\n",
        "    \n",
        "    def point_on_line(line,point):\n",
        "        if line.A*point.x_cod + line.B*point.y_cod + line.C == 0:\n",
        "              return \" Yes ! lies on the line\"\n",
        "        else:\n",
        "            return \"No ! does not lie on the line\"\n",
        "        \n",
        "\n",
        "    def shortest_distance(line, point):\n",
        "        # |Ax1 + By1 + C| / (A^2 + B^2)½\n",
        "        return abs(line.A*point.x_cod + line.B*point.y_cod + line.C)/(line.A**2 + line.B**2)**0.5\n",
        "    \n",
        "    # Create a function that determine is two line intersect or not\n",
        "    def line_intersect(self):\n",
        "        pass\n",
        "        "
      ]
    },
    {
      "cell_type": "code",
      "execution_count": 53,
      "metadata": {},
      "outputs": [
        {
          "name": "stdout",
          "output_type": "stream",
          "text": [
            "<0, 0>\n"
          ]
        }
      ],
      "source": [
        "p1 = Point(0, 0)\n",
        "p2 = Point(-2, -1)\n",
        "print(p1)"
      ]
    },
    {
      "cell_type": "code",
      "execution_count": 54,
      "metadata": {},
      "outputs": [
        {
          "data": {
            "text/plain": [
              "2.23606797749979"
            ]
          },
          "execution_count": 54,
          "metadata": {},
          "output_type": "execute_result"
        }
      ],
      "source": [
        "# claculation euclidean distance. \n",
        "p1.euclidean_distance(p2) # <- pass two thing self object and other object"
      ]
    },
    {
      "cell_type": "code",
      "execution_count": 55,
      "metadata": {},
      "outputs": [
        {
          "data": {
            "text/plain": [
              "0.0"
            ]
          },
          "execution_count": 55,
          "metadata": {},
          "output_type": "execute_result"
        }
      ],
      "source": [
        "p1.distance_from_origin()"
      ]
    },
    {
      "cell_type": "code",
      "execution_count": 56,
      "metadata": {},
      "outputs": [
        {
          "name": "stdout",
          "output_type": "stream",
          "text": [
            "3x + 4y + 5 = 0\n"
          ]
        }
      ],
      "source": [
        "l1 = Line(3, 4, 5)\n",
        "print(l1)"
      ]
    },
    {
      "cell_type": "code",
      "execution_count": 57,
      "metadata": {},
      "outputs": [
        {
          "data": {
            "text/plain": [
              "'No ! does not lie on the line'"
            ]
          },
          "execution_count": 57,
          "metadata": {},
          "output_type": "execute_result"
        }
      ],
      "source": [
        "l1.point_on_line(point=p1)"
      ]
    },
    {
      "cell_type": "code",
      "execution_count": 59,
      "metadata": {},
      "outputs": [
        {
          "data": {
            "text/plain": [
              "6.16644143732834"
            ]
          },
          "execution_count": 59,
          "metadata": {},
          "output_type": "execute_result"
        }
      ],
      "source": [
        "# Shortest distance\n",
        "l3 = Line(2, 6, 3)\n",
        "p3 = Point(3, 5)\n",
        "l3.shortest_distance(p3)"
      ]
    },
    {
      "cell_type": "markdown",
      "metadata": {
        "id": "s6n-PpwgfiMv"
      },
      "source": [
        "# How objects access attributes"
      ]
    },
    {
      "cell_type": "code",
      "execution_count": 60,
      "metadata": {
        "id": "XUwz5NX3fl3p"
      },
      "outputs": [],
      "source": [
        "class Person:\n",
        "\n",
        "  def __init__(self,name_input,country_input):\n",
        "    self.name = name_input\n",
        "    self.country = country_input\n",
        "\n",
        "  def greet(self):\n",
        "    if self.country == 'Saudi Arab':\n",
        "      print('Assalamu alaikum',self.name)\n",
        "    else:\n",
        "      print('Hello ',self.name)\n"
      ]
    },
    {
      "cell_type": "code",
      "execution_count": 64,
      "metadata": {
        "id": "Eb_wD7mkh-sK"
      },
      "outputs": [
        {
          "data": {
            "text/plain": [
              "'Bangladesh'"
            ]
          },
          "execution_count": 64,
          "metadata": {},
          "output_type": "execute_result"
        }
      ],
      "source": [
        "# how to access attributes\n",
        "p = Person('Sourov','Bangladesh')\n",
        "p.name # <- Object have the power of access all atribute(data) & method of that class\n",
        "p.country"
      ]
    },
    {
      "cell_type": "code",
      "execution_count": 65,
      "metadata": {
        "colab": {
          "base_uri": "https://localhost:8080/",
          "height": 36
        },
        "id": "R_zixc-yD2z8",
        "outputId": "18dcea56-fe39-4214-b3cc-483d2fb32ff2"
      },
      "outputs": [
        {
          "name": "stdout",
          "output_type": "stream",
          "text": [
            "Hello  Sourov\n"
          ]
        }
      ],
      "source": [
        "p.greet()"
      ]
    },
    {
      "cell_type": "code",
      "execution_count": 66,
      "metadata": {
        "colab": {
          "base_uri": "https://localhost:8080/",
          "height": 187
        },
        "id": "LyBkKlAviG-x",
        "outputId": "66fd0bf4-9d2e-4d3b-d0fd-3d3593849d25"
      },
      "outputs": [
        {
          "ename": "AttributeError",
          "evalue": "'Person' object has no attribute 'gender'",
          "output_type": "error",
          "traceback": [
            "\u001b[1;31m---------------------------------------------------------------------------\u001b[0m",
            "\u001b[1;31mAttributeError\u001b[0m                            Traceback (most recent call last)",
            "Cell \u001b[1;32mIn[66], line 2\u001b[0m\n\u001b[0;32m      1\u001b[0m \u001b[38;5;66;03m# what if i try to access non-existent attributes\u001b[39;00m\n\u001b[1;32m----> 2\u001b[0m p\u001b[38;5;241m.\u001b[39mgender\n",
            "\u001b[1;31mAttributeError\u001b[0m: 'Person' object has no attribute 'gender'"
          ]
        }
      ],
      "source": [
        "# what if i try to access non-existent attributes\n",
        "p.gender"
      ]
    },
    {
      "cell_type": "markdown",
      "metadata": {},
      "source": [
        "'Person' object has no attribute 'gender'"
      ]
    },
    {
      "cell_type": "markdown",
      "metadata": {
        "id": "gFxMl3Gpfmq-"
      },
      "source": [
        "## Attribute creation from outside of the class"
      ]
    },
    {
      "cell_type": "code",
      "execution_count": 67,
      "metadata": {
        "id": "Ab2M4VwRfp6G"
      },
      "outputs": [],
      "source": [
        "# Wow you can create attribute outside of the class\n",
        "p.gender = 'male'"
      ]
    },
    {
      "cell_type": "code",
      "execution_count": 68,
      "metadata": {
        "colab": {
          "base_uri": "https://localhost:8080/",
          "height": 36
        },
        "id": "YquKhn88NXEZ",
        "outputId": "2d07e3aa-14d3-4016-cba2-8de3ac9c1fa5"
      },
      "outputs": [
        {
          "data": {
            "text/plain": [
              "'male'"
            ]
          },
          "execution_count": 68,
          "metadata": {},
          "output_type": "execute_result"
        }
      ],
      "source": [
        "p.gender"
      ]
    },
    {
      "cell_type": "markdown",
      "metadata": {
        "id": "s26UEjp6fqjn"
      },
      "source": [
        "## Reference Variables\n",
        "\n",
        "- Reference variables hold the objects\n",
        "- We can create objects without reference variable as well\n",
        "- An object can have multiple reference variables\n",
        "- Assigning a new reference variable to an existing object does not create a new object"
      ]
    },
    {
      "cell_type": "code",
      "execution_count": 74,
      "metadata": {
        "id": "FAoqeNdQfsrB"
      },
      "outputs": [],
      "source": [
        "# object without a reference\n",
        "class Person:\n",
        "\n",
        "  def __init__(self):\n",
        "    self.name = 'Sourov'\n",
        "    self.gender = 'male'\n",
        "\n",
        "p = Person() # technically  object is create while call the class and we just store our reference in p\n",
        "             # P is just a variabel which have the memory adress of the object . P is not the object\n",
        "q = p"
      ]
    },
    {
      "cell_type": "code",
      "execution_count": 71,
      "metadata": {
        "colab": {
          "base_uri": "https://localhost:8080/"
        },
        "id": "oaJcQhkRfuGP",
        "outputId": "c0561a5e-f2d7-4e24-c8b1-5ec0a3a52372"
      },
      "outputs": [
        {
          "name": "stdout",
          "output_type": "stream",
          "text": [
            "2001100260304\n",
            "2001100260304\n"
          ]
        }
      ],
      "source": [
        "# Multiple ref\n",
        "print(id(p))\n",
        "print(id(q))"
      ]
    },
    {
      "cell_type": "code",
      "execution_count": null,
      "metadata": {
        "id": "Ycm-nWU6fscq"
      },
      "outputs": [],
      "source": [
        "# change attribute value with the help of 2nd object"
      ]
    },
    {
      "cell_type": "code",
      "execution_count": 75,
      "metadata": {
        "colab": {
          "base_uri": "https://localhost:8080/"
        },
        "id": "AtjSluqSfzqj",
        "outputId": "51460dab-fb58-4fe0-8280-f4befac9db5a"
      },
      "outputs": [
        {
          "name": "stdout",
          "output_type": "stream",
          "text": [
            "Sourov\n",
            "Sourov\n",
            "Abir\n",
            "Abir\n"
          ]
        }
      ],
      "source": [
        "print(p.name)\n",
        "print(q.name)\n",
        "q.name = 'Abir'\n",
        "print(q.name)\n",
        "print(p.name)\n",
        "\n",
        "# So you have to ultra carefull while creating referencial variable . One variable affect all variable"
      ]
    },
    {
      "cell_type": "markdown",
      "metadata": {
        "id": "4nqDJqJvfukO"
      },
      "source": [
        "## Pass by reference\n",
        "- When you pass any object on a function as input. Technically you do not pass object, you basically pass or sent object reference / adress"
      ]
    },
    {
      "cell_type": "code",
      "execution_count": 76,
      "metadata": {
        "colab": {
          "base_uri": "https://localhost:8080/"
        },
        "id": "noYvRkMmfwMl",
        "outputId": "2e61b55e-133c-4f15-9dc4-c29a416658d9"
      },
      "outputs": [
        {
          "name": "stdout",
          "output_type": "stream",
          "text": [
            "Hi my name is sourov and I am a male\n",
            "Jeny\n",
            "female\n"
          ]
        }
      ],
      "source": [
        "class Person:\n",
        "\n",
        "  def __init__(self,name,gender):\n",
        "    self.name = name\n",
        "    self.gender = gender\n",
        "\n",
        "# outside the class -> function\n",
        "def greet(person): # We giving object as input to a function \n",
        "  print('Hi my name is',person.name,'and I am a',person.gender) \n",
        "  p1 = Person('Jeny','female')\n",
        "  return p1\n",
        "\n",
        "p = Person('sourov','male')\n",
        "x = greet(p)\n",
        "print(x.name)\n",
        "print(x.gender)"
      ]
    },
    {
      "cell_type": "code",
      "execution_count": 78,
      "metadata": {
        "colab": {
          "base_uri": "https://localhost:8080/"
        },
        "id": "8ddbyX3hHryA",
        "outputId": "b902e987-9199-4637-c88c-ca5154bf31bb"
      },
      "outputs": [
        {
          "name": "stdout",
          "output_type": "stream",
          "text": [
            "2001099859728\n",
            "2001099859728\n",
            "Any\n",
            "Any\n"
          ]
        }
      ],
      "source": [
        "class Person:\n",
        "\n",
        "  def __init__(self,name,gender):\n",
        "    self.name = name\n",
        "    self.gender = gender\n",
        "\n",
        "# outside the class -> function\n",
        "def greet(person):\n",
        "  print(id(person))\n",
        "  person.name = 'Any'\n",
        "  print(person.name)\n",
        "\n",
        "p = Person('sourov','male')\n",
        "print(id(p))\n",
        "greet(p)\n",
        "print(p.name)"
      ]
    },
    {
      "cell_type": "markdown",
      "metadata": {
        "id": "gRNNs9_DFvud"
      },
      "source": [
        "### Object is Mutable (Prove down)"
      ]
    },
    {
      "cell_type": "code",
      "execution_count": 80,
      "metadata": {
        "colab": {
          "base_uri": "https://localhost:8080/"
        },
        "id": "GcBsQGR_Fy5E",
        "outputId": "e1048f8e-45c0-4ff0-8a2b-78578b81f23b"
      },
      "outputs": [
        {
          "name": "stdout",
          "output_type": "stream",
          "text": [
            "2001099840080\n",
            "2001099840080\n"
          ]
        }
      ],
      "source": [
        "class Person:\n",
        "\n",
        "  def __init__(self,name,gender):\n",
        "    self.name = name\n",
        "    self.gender = gender\n",
        "\n",
        "# outside the class -> function\n",
        "def greet(person):\n",
        "  person.name = 'ankit'\n",
        "  return person\n",
        "\n",
        "p = Person('nitish','male')\n",
        "print(id(p))\n",
        "p1 = greet(p)\n",
        "print(id(p1))"
      ]
    },
    {
      "cell_type": "markdown",
      "metadata": {
        "id": "A2Opzki1fw7x"
      },
      "source": [
        "## Instance variable"
      ]
    },
    {
      "cell_type": "code",
      "execution_count": 82,
      "metadata": {
        "id": "yLRvYq47fyvp"
      },
      "outputs": [],
      "source": [
        "# Instance variable: You create a class `person`. There is a constructor. And in constructor there are two attribute 'name', 'country' . These two variable is called instance variable. Basically instance variabel is such a variable which value is different for different object . Instance variables are special variable where in one variable you are storing multiple value depending on the objects.\n",
        "class Person:\n",
        "\n",
        "  def __init__(self,name_input,country_input):\n",
        "    self.name = name_input\n",
        "    self.country = country_input\n",
        "\n",
        "p1 = Person('Sourov','Bangladesh')\n",
        "p2 = Person('Steve jobs','America')"
      ]
    },
    {
      "cell_type": "code",
      "execution_count": 83,
      "metadata": {
        "colab": {
          "base_uri": "https://localhost:8080/",
          "height": 36
        },
        "id": "myBJr2T_KZmL",
        "outputId": "98f717d2-c600-43fa-c6ba-012f518d0490"
      },
      "outputs": [
        {
          "name": "stdout",
          "output_type": "stream",
          "text": [
            "Sourov\n",
            "Steve jobs\n"
          ]
        }
      ],
      "source": [
        "print(p1.name)\n",
        "print(p2.name)"
      ]
    },
    {
      "cell_type": "markdown",
      "metadata": {},
      "source": [
        "# **Encapsulation**\n",
        "**It is the core Fundamental pillar of OOP**\n",
        "> **Story of Encapsulation**\n",
        "Suppose you are the hero of this story.You are the senior programmer of a company.You created this **ATM** code. A fresher new join in your company (vilan of the story), he have no interest on coding, he planning for Govment job  just this job he joined by campus default placement.That menas he is not interest in the work of job. Unfortunately this fresher join in your project by manager order where you are senior programmer. One day you shoutout to him, bahve rootly with this fressher why he not doing anything, not intered in anything at job. He got Angry !. And thought we would take revenge to you(senior programmer) . Manager says that you (senior programmer responsibility is to create the class and the junior fressher responsibility is convert the code into website). The freher revenge mind is still same . He create an object of senior programmer class(ATM). his responsibility so something using the object. When he work on the object he notice while he write object. dot then some (method atrribute show) which is basically happen in idle class object . Then he thing why not take revenge now ? . He change an attribute ob the clas by calling object and change . Atrribute was `balance`= money amount, He change the attribute obj.balance = 'hehe'. Maybe you can thing what will happen now !!!!!!!!!!!. And then manager Shoutout to you !!! bla bla bla . \n",
        "\n",
        "Maybe you learned from that story that if the main core class code all attribute and method can access class anyone can change it which is so dangerous.\n",
        "- There you will use **private variable**,**private attribute**, **private method**.\n",
        "- How to private a varible  or attribute ?\n",
        "    - use __ (double underscrore) before all variable like **self.__name =** ; **self.__balance =**  \n",
        "- How to private a method ?\n",
        "    - use __ (double underscore) before function like **def __menu(self)** ;**def __set_balance()**\n",
        "\n",
        "    **But in this way if you private your variable object till now can access by obj.__name ; obj.__balance  but can not change . Basicaly when you make private of any variable by __ (double undersco) then actually the name of the variable in memory is changed _ATM__name, Butttt In this way typing user can change the variable **.\n",
        "\n",
        "\n",
        "    **Nothing is Private in python . Anything you can access. if you have comment againts it python creator says i create python for adult....**\n",
        "\n",
        "\n",
        "> again come back to the story . A new employee come in your company. And you already made private of your all variable of your class facing on prev culprit frrehser. The new employee is very well and he want to access variable from  your class for need but you are thinking not , last month i got very shoutout from my manager i will not do that. But the employar need this beacuse of company work . How would you give him the access with taking private ?\n",
        "\n",
        "- There a concept come that you can create  method to give access your class attribute and make private .The methods are `getter` and `setter` method\n",
        "    - getter : show private value to object(outside)\n",
        "    - setter : change private value from outside . You can access him by your logic. so that he can do what is actually he shoudl do not to anything else.\n",
        "\n",
        "**This whole concept is called Encapsulation**\n",
        "\n",
        "## We learned from there that \n",
        "- Make it a havit that any variable in your class you will make it private."
      ]
    },
    {
      "cell_type": "code",
      "execution_count": 87,
      "metadata": {
        "id": "HRV0i93nzBtZ"
      },
      "outputs": [],
      "source": [
        "class Atm:\n",
        "\n",
        "  # constructor(special function)->superpower ->\n",
        "  def __init__(self):\n",
        "    print(id(self))\n",
        "    self.pin = ''\n",
        "    self.__balance = 0\n",
        "    #self.menu()\n",
        "   \n",
        "  # Getter\n",
        "  def get_balance(self):\n",
        "    return self.__balance\n",
        "  \n",
        "  # Setter\n",
        "  def set_balance(self,new_value):\n",
        "    if type(new_value) == int:\n",
        "      self.__balance = new_value\n",
        "    else:\n",
        "      print('Bit you get out')\n",
        "\n",
        "  def __menu(self):\n",
        "    user_input = input(\"\"\"\n",
        "    Hi how can I help you?\n",
        "    1. Press 1 to create pin\n",
        "    2. Press 2 to change pin\n",
        "    3. Press 3 to check balance\n",
        "    4. Press 4 to withdraw\n",
        "    5. Anything else to exit\n",
        "    \"\"\")\n",
        "\n",
        "    if user_input == '1':\n",
        "      self.create_pin()\n",
        "    elif user_input == '2':\n",
        "      self.change_pin()\n",
        "    elif user_input == '3':\n",
        "      self.check_balance()\n",
        "    elif user_input == '4':\n",
        "      self.withdraw()\n",
        "    else:\n",
        "      exit()\n",
        "\n",
        "  def create_pin(self):\n",
        "    user_pin = input('enter your pin')\n",
        "    self.pin = user_pin\n",
        "\n",
        "    user_balance = int(input('enter balance'))\n",
        "    self.__balance = user_balance\n",
        "\n",
        "    print('pin created successfully')\n",
        "\n",
        "  def change_pin(self):\n",
        "    old_pin = input('enter old pin')\n",
        "\n",
        "    if old_pin == self.pin:\n",
        "      # let him change the pin\n",
        "      new_pin = input('enter new pin')\n",
        "      self.pin = new_pin\n",
        "      print('pin change successful')\n",
        "    else:\n",
        "      print('do not have sufficient balance')\n",
        "\n",
        "  def check_balance(self):\n",
        "    user_pin = input('enter your pin')\n",
        "    if user_pin == self.pin:\n",
        "      print('your balance is ',self.__balance)\n",
        "    else:\n",
        "      print('sorry you have not enought money')\n",
        "\n",
        "  def withdraw(self):\n",
        "    user_pin = input('enter the pin')\n",
        "    if user_pin == self.pin:\n",
        "      # allow to withdraw\n",
        "      amount = int(input('enter the amount'))\n",
        "      if amount <= self.__balance:\n",
        "        self.__balance = self.__balance - amount\n",
        "        print('withdrawl successful.balance is',self.__balance)\n",
        "      else:\n",
        "        print('No chance ')\n",
        "    else:\n",
        "      print(' Get out from here')"
      ]
    },
    {
      "cell_type": "code",
      "execution_count": 88,
      "metadata": {
        "colab": {
          "base_uri": "https://localhost:8080/"
        },
        "id": "L_5IBTO_LaFO",
        "outputId": "f3e1ac11-942e-4324-b471-d5e9f295fa9c"
      },
      "outputs": [
        {
          "name": "stdout",
          "output_type": "stream",
          "text": [
            "2001098936208\n"
          ]
        }
      ],
      "source": [
        "obj = Atm()\n",
        "obj.   # <- obj. then the private variable will not show "
      ]
    },
    {
      "cell_type": "code",
      "execution_count": null,
      "metadata": {
        "colab": {
          "base_uri": "https://localhost:8080/"
        },
        "id": "2k4gY5HlLtdE",
        "outputId": "c37806fc-228d-43ab-fa1c-3d3a021666b7"
      },
      "outputs": [
        {
          "data": {
            "text/plain": [
              "1000"
            ]
          },
          "execution_count": 100,
          "metadata": {},
          "output_type": "execute_result"
        }
      ],
      "source": [
        "obj.get_balance()"
      ]
    },
    {
      "cell_type": "code",
      "execution_count": null,
      "metadata": {
        "id": "OEDXxBISQeH-"
      },
      "outputs": [],
      "source": [
        "obj.set_balance(1000)"
      ]
    },
    {
      "cell_type": "code",
      "execution_count": null,
      "metadata": {
        "colab": {
          "base_uri": "https://localhost:8080/",
          "height": 330
        },
        "id": "MIOrnSeLL4Gi",
        "outputId": "928252c3-ae3b-42ed-fe0c-11e1e6ed7b08"
      },
      "outputs": [
        {
          "name": "stdout",
          "output_type": "stream",
          "text": [
            "enter the pin\n",
            "enter the amount5000\n"
          ]
        },
        {
          "ename": "TypeError",
          "evalue": "ignored",
          "output_type": "error",
          "traceback": [
            "\u001b[0;31m---------------------------------------------------------------------------\u001b[0m",
            "\u001b[0;31mTypeError\u001b[0m                                 Traceback (most recent call last)",
            "\u001b[0;32m<ipython-input-93-826ea677aa70>\u001b[0m in \u001b[0;36m<module>\u001b[0;34m\u001b[0m\n\u001b[0;32m----> 1\u001b[0;31m \u001b[0mobj\u001b[0m\u001b[0;34m.\u001b[0m\u001b[0mwithdraw\u001b[0m\u001b[0;34m(\u001b[0m\u001b[0;34m)\u001b[0m\u001b[0;34m\u001b[0m\u001b[0;34m\u001b[0m\u001b[0m\n\u001b[0m",
            "\u001b[0;32m<ipython-input-86-f5bffac7e2a0>\u001b[0m in \u001b[0;36mwithdraw\u001b[0;34m(self)\u001b[0m\n\u001b[1;32m     67\u001b[0m       \u001b[0;31m# allow to withdraw\u001b[0m\u001b[0;34m\u001b[0m\u001b[0;34m\u001b[0m\u001b[0;34m\u001b[0m\u001b[0m\n\u001b[1;32m     68\u001b[0m       \u001b[0mamount\u001b[0m \u001b[0;34m=\u001b[0m \u001b[0mint\u001b[0m\u001b[0;34m(\u001b[0m\u001b[0minput\u001b[0m\u001b[0;34m(\u001b[0m\u001b[0;34m'enter the amount'\u001b[0m\u001b[0;34m)\u001b[0m\u001b[0;34m)\u001b[0m\u001b[0;34m\u001b[0m\u001b[0;34m\u001b[0m\u001b[0m\n\u001b[0;32m---> 69\u001b[0;31m       \u001b[0;32mif\u001b[0m \u001b[0mamount\u001b[0m \u001b[0;34m<=\u001b[0m \u001b[0mself\u001b[0m\u001b[0;34m.\u001b[0m\u001b[0m__balance\u001b[0m\u001b[0;34m:\u001b[0m\u001b[0;34m\u001b[0m\u001b[0;34m\u001b[0m\u001b[0m\n\u001b[0m\u001b[1;32m     70\u001b[0m         \u001b[0mself\u001b[0m\u001b[0;34m.\u001b[0m\u001b[0m__balance\u001b[0m \u001b[0;34m=\u001b[0m \u001b[0mself\u001b[0m\u001b[0;34m.\u001b[0m\u001b[0m__balance\u001b[0m \u001b[0;34m-\u001b[0m \u001b[0mamount\u001b[0m\u001b[0;34m\u001b[0m\u001b[0;34m\u001b[0m\u001b[0m\n\u001b[1;32m     71\u001b[0m         \u001b[0mprint\u001b[0m\u001b[0;34m(\u001b[0m\u001b[0;34m'withdrawl successful.balance is'\u001b[0m\u001b[0;34m,\u001b[0m\u001b[0mself\u001b[0m\u001b[0;34m.\u001b[0m\u001b[0m__balance\u001b[0m\u001b[0;34m)\u001b[0m\u001b[0;34m\u001b[0m\u001b[0;34m\u001b[0m\u001b[0m\n",
            "\u001b[0;31mTypeError\u001b[0m: '<=' not supported between instances of 'int' and 'str'"
          ]
        }
      ],
      "source": [
        "obj.withdraw()"
      ]
    },
    {
      "cell_type": "markdown",
      "metadata": {
        "id": "2zN_yVYaf0_1"
      },
      "source": [
        "## Collection of objects\n",
        "- You can store multiple object in list, tuple, dictionary"
      ]
    },
    {
      "cell_type": "code",
      "execution_count": 89,
      "metadata": {
        "colab": {
          "base_uri": "https://localhost:8080/"
        },
        "id": "VdP0aR6Qf4zp",
        "outputId": "72deb00b-deae-4536-da36-2bae44d2245c"
      },
      "outputs": [
        {
          "name": "stdout",
          "output_type": "stream",
          "text": [
            "Sourov male\n",
            "Abir male\n",
            "Jeny female\n"
          ]
        }
      ],
      "source": [
        "# list of objects\n",
        "class Person:\n",
        "\n",
        "  def __init__(self,name,gender):\n",
        "    self.name = name\n",
        "    self.gender = gender\n",
        "\n",
        "p1 = Person('Sourov','male')\n",
        "p2 = Person('Abir','male')\n",
        "p3 = Person('Jeny','female')\n",
        "\n",
        "L = [p1,p2,p3]\n",
        "\n",
        "for i in L:\n",
        "  print(i.name,i.gender)"
      ]
    },
    {
      "cell_type": "code",
      "execution_count": 90,
      "metadata": {
        "colab": {
          "base_uri": "https://localhost:8080/"
        },
        "id": "uARXTZTCvt3M",
        "outputId": "18e100f5-07a5-43df-d0d9-482ce648f6f5"
      },
      "outputs": [
        {
          "name": "stdout",
          "output_type": "stream",
          "text": [
            "male\n",
            "male\n",
            "female\n"
          ]
        }
      ],
      "source": [
        "# dict of objects\n",
        "# list of objects\n",
        "class Person:\n",
        "\n",
        "  def __init__(self,name,gender):\n",
        "    self.name = name\n",
        "    self.gender = gender\n",
        "\n",
        "p1 = Person('sourov','male')\n",
        "p2 = Person('Abir','male')\n",
        "p3 = Person('Jeny','female')\n",
        "\n",
        "d = {'p1':p1,'p2':p2,'p3':p3}\n",
        "\n",
        "for i in d:\n",
        "  print(d[i].gender)"
      ]
    },
    {
      "cell_type": "markdown",
      "metadata": {
        "id": "TKdM9xIFf8Lt"
      },
      "source": [
        "## Static Variables Vs Instance variables\n",
        "\n",
        "- Static variable  is variable of class : The value of static variable is same for all object.Static variable are define on out of all method under class .\n",
        "- Instance variable is variable of object : The value of instance variable is diff for each object. Instance variable are always define under constructor\n",
        "\n",
        "\n",
        "    - Suppose you creating a banking system . Definitely Bank id will static variable and user name, user money , transaction will be in instance variable"
      ]
    },
    {
      "cell_type": "code",
      "execution_count": null,
      "metadata": {
        "id": "yQakCFqbf-kB"
      },
      "outputs": [],
      "source": [
        "# need for static vars"
      ]
    },
    {
      "cell_type": "code",
      "execution_count": null,
      "metadata": {
        "id": "5HYjBHv9wZNm"
      },
      "outputs": [],
      "source": [
        "class Atm:\n",
        "\n",
        "  __counter = 1 # <- Static variable \n",
        "\n",
        "  # constructor(special function)->superpower ->\n",
        "  def __init__(self):\n",
        "    print(id(self))\n",
        "    self.pin = ''\n",
        "    self.__balance = 0\n",
        "    self.cid = Atm.__counter\n",
        "    Atm.__counter = Atm.__counter + 1 # <- for using static variable use capturing class name\n",
        "    #self.menu()\n",
        "\n",
        "  # utility functions\n",
        "  @staticmethod\n",
        "  def get_counter():\n",
        "    return Atm.__counter\n",
        "\n",
        "\n",
        "  def get_balance(self):\n",
        "    return self.__balance\n",
        "\n",
        "  def set_balance(self,new_value):\n",
        "    if type(new_value) == int:\n",
        "      self.__balance = new_value\n",
        "    else:\n",
        "      print('Bit you . Get out')\n",
        "\n",
        "  def __menu(self):\n",
        "    user_input = input(\"\"\"\n",
        "    Hi how can I help you?\n",
        "    1. Press 1 to create pin\n",
        "    2. Press 2 to change pin\n",
        "    3. Press 3 to check balance\n",
        "    4. Press 4 to withdraw\n",
        "    5. Anything else to exit\n",
        "    \"\"\")\n",
        "\n",
        "    if user_input == '1':\n",
        "      self.create_pin()\n",
        "    elif user_input == '2':\n",
        "      self.change_pin()\n",
        "    elif user_input == '3':\n",
        "      self.check_balance()\n",
        "    elif user_input == '4':\n",
        "      self.withdraw()\n",
        "    else:\n",
        "      exit()\n",
        "\n",
        "  def create_pin(self):\n",
        "    user_pin = input('enter your pin')\n",
        "    self.pin = user_pin\n",
        "\n",
        "    user_balance = int(input('enter balance'))\n",
        "    self.__balance = user_balance\n",
        "\n",
        "    print('pin created successfully')\n",
        "\n",
        "  def change_pin(self):\n",
        "    old_pin = input('enter old pin')\n",
        "\n",
        "    if old_pin == self.pin:\n",
        "      # let him change the pin\n",
        "      new_pin = input('enter new pin')\n",
        "      self.pin = new_pin\n",
        "      print('pin change successful')\n",
        "    else:\n",
        "      print('Not you can not ')\n",
        "\n",
        "  def check_balance(self):\n",
        "    user_pin = input('enter your pin')\n",
        "    if user_pin == self.pin:\n",
        "      print('your balance is ',self.__balance)\n",
        "    else:\n",
        "      print('Get out from here')\n",
        "\n",
        "  def withdraw(self):\n",
        "    user_pin = input('enter the pin')\n",
        "    if user_pin == self.pin:\n",
        "      # allow to withdraw\n",
        "      amount = int(input('enter the amount'))\n",
        "      if amount <= self.__balance:\n",
        "        self.__balance = self.__balance - amount\n",
        "        print('withdrawl successful.balance is',self.__balance)\n",
        "      else:\n",
        "        print('Hey poor')\n",
        "    else:\n",
        "      print('Get lost stupid')"
      ]
    },
    {
      "cell_type": "code",
      "execution_count": null,
      "metadata": {
        "colab": {
          "base_uri": "https://localhost:8080/"
        },
        "id": "uafMrCPewZWY",
        "outputId": "b0c914a4-b08b-4aa0-ebcb-9f1b4bacd0ba"
      },
      "outputs": [
        {
          "name": "stdout",
          "output_type": "stream",
          "text": [
            "140655538287248\n"
          ]
        }
      ],
      "source": [
        "c1 = Atm()"
      ]
    },
    {
      "cell_type": "code",
      "execution_count": null,
      "metadata": {
        "colab": {
          "base_uri": "https://localhost:8080/"
        },
        "id": "f35wRAlXwZa7",
        "outputId": "a7a897b2-8262-45b7-b83a-aad207ee102f"
      },
      "outputs": [
        {
          "data": {
            "text/plain": [
              "2"
            ]
          },
          "execution_count": 128,
          "metadata": {},
          "output_type": "execute_result"
        }
      ],
      "source": [
        "Atm.get_counter()"
      ]
    },
    {
      "cell_type": "code",
      "execution_count": null,
      "metadata": {
        "colab": {
          "base_uri": "https://localhost:8080/"
        },
        "id": "WiCrLBgGTseq",
        "outputId": "9019d462-0b46-4a9d-8837-6a3c31591ad4"
      },
      "outputs": [
        {
          "name": "stdout",
          "output_type": "stream",
          "text": [
            "140655538226704\n"
          ]
        }
      ],
      "source": [
        "c3 = Atm()"
      ]
    },
    {
      "cell_type": "code",
      "execution_count": null,
      "metadata": {
        "colab": {
          "base_uri": "https://localhost:8080/"
        },
        "id": "YwPU4wRYTuoK",
        "outputId": "cb34a43c-1337-412f-c7ee-e6a2eccd9066"
      },
      "outputs": [
        {
          "data": {
            "text/plain": [
              "3"
            ]
          },
          "execution_count": 121,
          "metadata": {},
          "output_type": "execute_result"
        }
      ],
      "source": [
        "c3.cid"
      ]
    },
    {
      "cell_type": "code",
      "execution_count": null,
      "metadata": {
        "colab": {
          "base_uri": "https://localhost:8080/"
        },
        "id": "-shiIdW1Vmzd",
        "outputId": "2e1b0468-2e2f-4061-d219-6ee4d818ceea"
      },
      "outputs": [
        {
          "data": {
            "text/plain": [
              "4"
            ]
          },
          "execution_count": 122,
          "metadata": {},
          "output_type": "execute_result"
        }
      ],
      "source": [
        "Atm.counter"
      ]
    },
    {
      "cell_type": "markdown",
      "metadata": {
        "id": "K9bxHyfBgC3Y"
      },
      "source": [
        "### Static methods"
      ]
    },
    {
      "cell_type": "markdown",
      "metadata": {
        "id": "Izqb_9FtwoIZ"
      },
      "source": [
        "##### Points to remember about static\n",
        "\n",
        "- Static attributes are created at class level.\n",
        "- Static attributes are accessed using ClassName.\n",
        "- Static attributes are object independent. We can access them without creating instance (object) of the class in which they are defined.\n",
        "- The value stored in static attribute is shared between all instances(objects) of the class in which the static attribute is defined."
      ]
    },
    {
      "cell_type": "code",
      "execution_count": null,
      "metadata": {
        "id": "3u0RdyaFwyaP"
      },
      "outputs": [],
      "source": [
        "class Lion:\n",
        "  __water_source=\"well in the circus\"\n",
        "\n",
        "  def __init__(self,name, gender):\n",
        "      self.__name=name\n",
        "      self.__gender=gender\n",
        "\n",
        "  def drinks_water(self):\n",
        "      print(self.__name,\n",
        "      \"drinks water from the\",Lion.__water_source)\n",
        "\n",
        "  @staticmethod # To apply encapsulation (make private also give access )\n",
        "  def get_water_source(): # <- you dont need to use self because the variable you using its for class \n",
        "      return Lion.__water_source\n",
        "\n",
        "simba=Lion(\"Simba\",\"Male\")\n",
        "simba.drinks_water()\n",
        "print( \"Water source of lions:\",Lion.get_water_source())"
      ]
    }
  ],
  "metadata": {
    "colab": {
      "provenance": []
    },
    "kernelspec": {
      "display_name": "Python 3",
      "name": "python3"
    },
    "language_info": {
      "codemirror_mode": {
        "name": "ipython",
        "version": 3
      },
      "file_extension": ".py",
      "mimetype": "text/x-python",
      "name": "python",
      "nbconvert_exporter": "python",
      "pygments_lexer": "ipython3",
      "version": "3.11.5"
    }
  },
  "nbformat": 4,
  "nbformat_minor": 0
}
